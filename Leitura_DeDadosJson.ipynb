{
  "nbformat": 4,
  "nbformat_minor": 0,
  "metadata": {
    "colab": {
      "name": "Leitura DeDadosJson.ipynb",
      "provenance": [],
      "authorship_tag": "ABX9TyMbCGQC5dcmqEXuzYm6NzOp",
      "include_colab_link": true
    },
    "kernelspec": {
      "name": "python3",
      "display_name": "Python 3"
    },
    "language_info": {
      "name": "python"
    }
  },
  "cells": [
    {
      "cell_type": "markdown",
      "metadata": {
        "id": "view-in-github",
        "colab_type": "text"
      },
      "source": [
        "<a href=\"https://colab.research.google.com/github/Jnfagundes/EstudoUNOPAR/blob/main/Leitura_DeDadosJson.ipynb\" target=\"_parent\"><img src=\"https://colab.research.google.com/assets/colab-badge.svg\" alt=\"Open In Colab\"/></a>"
      ]
    },
    {
      "cell_type": "code",
      "metadata": {
        "id": "gyhVR0A0UdkT"
      },
      "source": [
        "import pandas as pd\n",
        "\n",
        "# Usamos o método read_json para carregar dados de uma API.\n",
        "pd.read_json('https://api.bcb.gov.br/dados/series/bcdata.sgs.11/dados?formato=json').head()\n"
      ],
      "execution_count": null,
      "outputs": []
    },
    {
      "cell_type": "code",
      "metadata": {
        "id": "GzeO1LmlWCjm"
      },
      "source": [
        ""
      ],
      "execution_count": null,
      "outputs": []
    }
  ]
}