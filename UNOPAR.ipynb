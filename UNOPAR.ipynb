{
  "nbformat": 4,
  "nbformat_minor": 0,
  "metadata": {
    "colab": {
      "name": "UNOPAR.ipynb",
      "provenance": [],
      "authorship_tag": "ABX9TyOrO8V6QqObiwab06/Gk3vi",
      "include_colab_link": true
    },
    "kernelspec": {
      "name": "python3",
      "display_name": "Python 3"
    },
    "language_info": {
      "name": "python"
    }
  },
  "cells": [
    {
      "cell_type": "markdown",
      "metadata": {
        "id": "view-in-github",
        "colab_type": "text"
      },
      "source": [
        "<a href=\"https://colab.research.google.com/github/Jnfagundes/EstudoUNOPAR/blob/main/UNOPAR.ipynb\" target=\"_parent\"><img src=\"https://colab.research.google.com/assets/colab-badge.svg\" alt=\"Open In Colab\"/></a>"
      ]
    },
    {
      "cell_type": "code",
      "metadata": {
        "colab": {
          "base_uri": "https://localhost:8080/"
        },
        "id": "OuWLshe4EQqP",
        "outputId": "bdaddb9c-3739-453f-c8b3-e36777b101d8"
      },
      "source": [
        "# Qual o resultado armazendo na variável operacao_1: 25 ou 17? \n",
        "operacao_1 = 2 + 3 * 5\n",
        "\n",
        "# Qual o resultado armazendo na variável operacao_2: 25 ou 17? \n",
        "operacao_2 = (2 + 3) * 5\n",
        "\n",
        "# Qual o resultado armazendo na variável operacao_3: 4 ou 1?\n",
        "operacao_3 = 4 / 2 ** 2\n",
        "\n",
        "# Qual o resultado armazendo na variável operacao_4: 1 ou 5?\n",
        "operacao_4 = 13 % 3 + 4\n",
        "\n",
        "\n",
        "print(f\"Resultado em operacao_1 = {operacao_1}\")\n",
        "print(f\"Resultado em operacao_2 = {operacao_2}\")\n",
        "print(f\"Resultado em operacao_3 = {operacao_3}\")\n",
        "print(f\"Resultado em operacao_4 = {operacao_4}\")"
      ],
      "execution_count": 1,
      "outputs": [
        {
          "output_type": "stream",
          "text": [
            "Resultado em operacao_1 = 17\n",
            "Resultado em operacao_2 = 25\n",
            "Resultado em operacao_3 = 1.0\n",
            "Resultado em operacao_4 = 5\n"
          ],
          "name": "stdout"
        }
      ]
    },
    {
      "cell_type": "code",
      "metadata": {
        "colab": {
          "base_uri": "https://localhost:8080/"
        },
        "id": "I5NoDZELEv2D",
        "outputId": "84f918d2-6a03-4bd8-da14-3e3e9a4ea982"
      },
      "source": [
        "a = 2\n",
        "b = 0.5\n",
        "c = 1\n",
        "x = float(input(\"Digite o valor de x: \")) # Aqui está semdo solicitado ao usuário um valor para x\n",
        "\n",
        "y = a * x ** 2 + b * x + c\n",
        "\n",
        "print(f\"O resultado de y para x = {x} é {y}.\")"
      ],
      "execution_count": 2,
      "outputs": [
        {
          "output_type": "stream",
          "text": [
            "Digite o valor de x: 2\n",
            "O resultado de y para x = 2.0 é 10.0.\n"
          ],
          "name": "stdout"
        }
      ]
    },
    {
      "cell_type": "code",
      "metadata": {
        "colab": {
          "base_uri": "https://localhost:8080/"
        },
        "id": "2zmElNSUGc_2",
        "outputId": "5f21f1f3-d2d9-4ce6-9383-33e4e1feec42"
      },
      "source": [
        "c = 200 # valor da constante\n",
        "\n",
        "mes = input(\"Digite o mês que deseja saber o resultado: \") # Função para captura o mês que o cliente digitar\n",
        "mes = int(mes) # Não esqueça de converter para numérico o valor captura pela função input()\n",
        "\n",
        "r = c * mes # Equação do primeiro grau, também chamada função do primeiro grau ou de função linear.\n",
        "\n",
        "print(f\"A quantidade de peças para o mês {mes} será {r}\") # Impressão do resultado usando string interpolada \"f-strings\" (PEP 498)"
      ],
      "execution_count": 3,
      "outputs": [
        {
          "output_type": "stream",
          "text": [
            "Digite o mês que deseja saber o resultado: 10\n",
            "A quantidade de peças para o mês 10 será 2000\n"
          ],
          "name": "stdout"
        }
      ]
    },
    {
      "cell_type": "code",
      "metadata": {
        "colab": {
          "base_uri": "https://localhost:8080/"
        },
        "id": "i0PMxECnIghh",
        "outputId": "aa88a058-72ce-452a-c92e-99b3f59802aa"
      },
      "source": [
        "print(\"Estrutura condicional simples\")\n",
        "\n",
        "a = 5\n",
        "b = 10\n",
        "\n",
        "if a < b: # Declaração da estrutura onde, se a for menor que b faça\n",
        "    print(\"a é menor do que b\") # Se a condição for verdadeira será mostrado essa mensagem na tela\n",
        "    r = a + b \n",
        "    print(r)"
      ],
      "execution_count": 4,
      "outputs": [
        {
          "output_type": "stream",
          "text": [
            "Estrutura condicional\n",
            "a é menor do que b\n",
            "15\n"
          ],
          "name": "stdout"
        }
      ]
    },
    {
      "cell_type": "code",
      "metadata": {
        "colab": {
          "base_uri": "https://localhost:8080/"
        },
        "id": "JW5c_ia9JDfY",
        "outputId": "789b681c-1e8d-404a-dde4-80dcff94ef84"
      },
      "source": [
        "print('Estrutura condicional composta')\n",
        "# Aqui temos a declaração de variáveis globais\n",
        "a = 10 \n",
        "b = 5\n",
        "\n",
        "if a < b: # Declaração da estrutura onde, se a for menor que b faça\n",
        "    print(\"a é menor do que b\")\n",
        "    r = a + b # Declaração de uma variável local\n",
        "    print(r)\n",
        "else: # Caso a estrutura acima for falsa esse comando abaixo será execultado \n",
        "    print(\"a é maior do que b\")\n",
        "    r = a - b\n",
        "    print(r)"
      ],
      "execution_count": 6,
      "outputs": [
        {
          "output_type": "stream",
          "text": [
            "Estrutura condicional composta\n",
            "a é maior do que b\n",
            "5\n"
          ],
          "name": "stdout"
        }
      ]
    },
    {
      "cell_type": "code",
      "metadata": {
        "colab": {
          "base_uri": "https://localhost:8080/"
        },
        "id": "KqmjgehPJhd6",
        "outputId": "67992dbc-fb92-4d93-a7b6-f24745449e24"
      },
      "source": [
        "print('Estrutura condicional encadeada')\n",
        "\n",
        "# No Python não existe a estrutura switch ... case\n",
        "codigo_compra = 5111\n",
        "\n",
        "if codigo_compra == 5222: # Se codigo_compra for igual a 5222\n",
        "    print(\"Compra à vista.\") # Esse valor será impresso\n",
        "elif codigo_compra == 5333: # Se a estrutura acima for falsa\n",
        "    print(\"Compra à prazo no boleto.\") # Esse valor será impresso\n",
        "elif codigo_compra == 5444: # Caso as duas estruturas acima forem falsas\n",
        "    print(\"Compra à prazo no cartão.\") # Esse valor será impresso\n",
        "else: # Todas elas sendo falsas\n",
        "    print(\"Código não cadastrado\") #Esse comando será execultado"
      ],
      "execution_count": 7,
      "outputs": [
        {
          "output_type": "stream",
          "text": [
            "Estrutura condicional encadeada\n",
            "Código não cadastrado\n"
          ],
          "name": "stdout"
        }
      ]
    },
    {
      "cell_type": "code",
      "metadata": {
        "colab": {
          "base_uri": "https://localhost:8080/"
        },
        "id": "QFUPDv9kK6Bi",
        "outputId": "3634da0d-4527-4083-e5cd-e1921a796940"
      },
      "source": [
        "qtde_faltas = int(input(\"Digite a quantidade de faltas: \"))\n",
        "media_final = float(input(\"Digite a média final: \"))\n",
        "\n",
        "if qtde_faltas <= 5 and media_final >= 7: # Se a quantidade de faltas for menor ou igual a cinco e a média final for maior ou igual a sete\n",
        "    print(\"Aluno aprovado!\") # Esse valor será impresso\n",
        "else: # Xaso a condição acima for falsa\n",
        "    print(\"Aluno reprovado!\") # Esse valor será impresso\n",
        "    "
      ],
      "execution_count": 8,
      "outputs": [
        {
          "output_type": "stream",
          "text": [
            "Digite a quantidade de faltas: 3\n",
            "Digite a média final: 6\n",
            "Aluno reprovado!\n"
          ],
          "name": "stdout"
        }
      ]
    },
    {
      "cell_type": "code",
      "metadata": {
        "colab": {
          "base_uri": "https://localhost:8080/"
        },
        "id": "7NkGPlqPLvLQ",
        "outputId": "22175ff0-39d3-44b3-9180-6ee88912b5f8"
      },
      "source": [
        "print(\"Estruturas de repetição quando não sabemos o valor de repetições\")\n",
        "\n",
        "numero = 1 # Declaração de uma variável global\n",
        "while numero != 0: # Enquanto numero for diferente de 0 faça \n",
        "    numero = int(input(\"Digite um número: \")) # Aqui será pedido um valor\n",
        "    if numero % 2 == 0: # Se esse valor for par e diferente de 0 a estrutura se repetirá\n",
        "        print(\"Número par!\")\n",
        "    else: # Se o valor for ímpar e diferente de 0 a estrutura se repetirá\n",
        "        print(\"Número ímpar!\")"
      ],
      "execution_count": 9,
      "outputs": [
        {
          "output_type": "stream",
          "text": [
            "Estruturas de repetição quando não sabemos o valor de repetições\n",
            "Digite um número: 56\n",
            "Número par!\n",
            "Digite um número: 53\n",
            "Número ímpar!\n",
            "Digite um número: 0\n",
            "Número par!\n"
          ],
          "name": "stdout"
        }
      ]
    },
    {
      "cell_type": "code",
      "metadata": {
        "colab": {
          "base_uri": "https://localhost:8080/"
        },
        "id": "wOvHV1ciNbsv",
        "outputId": "b0d566ac-c916-4f12-cec7-7adc282785e8"
      },
      "source": [
        "print('For tendo que iterar')\n",
        "nome = \"Guido\"\n",
        "for c in nome: # Para C em nome, faça\n",
        "    print(c) # Aqui ele irá printar o valor de C em cada iteração.\n"
      ],
      "execution_count": 10,
      "outputs": [
        {
          "output_type": "stream",
          "text": [
            "For tendo que iterar\n",
            "G\n",
            "u\n",
            "i\n",
            "d\n",
            "o\n"
          ],
          "name": "stdout"
        }
      ]
    },
    {
      "cell_type": "code",
      "metadata": {
        "colab": {
          "base_uri": "https://localhost:8080/"
        },
        "id": "eyeoCAaTO-AK",
        "outputId": "4e7e2593-0001-4c7c-ce71-8ffbdbbe352f"
      },
      "source": [
        "print('For com função para enumerar posição')\n",
        "\n",
        "nome = \"Guido\"\n",
        "for i, c in enumerate(nome): # Para i e c dentro da função enumerate (Essa função conta cada iteração que acontece)\n",
        "    print(f\"Posição = {i + 1}, valor = {c}\") # Aqui será impressa a posição e o valor\n"
      ],
      "execution_count": 13,
      "outputs": [
        {
          "output_type": "stream",
          "text": [
            "For com função para enumerar posição\n",
            "Posição = 1, valor = G\n",
            "Posição = 2, valor = u\n",
            "Posição = 3, valor = i\n",
            "Posição = 4, valor = d\n",
            "Posição = 5, valor = o\n"
          ],
          "name": "stdout"
        }
      ]
    },
    {
      "cell_type": "code",
      "metadata": {
        "colab": {
          "base_uri": "https://localhost:8080/"
        },
        "id": "Z3_JxGtNQG-D",
        "outputId": "a88654f0-efd3-4696-af2d-0eba030527be"
      },
      "source": [
        "print(' Para criar uma sequência numérica de iteração em Python, podemos usar a função range()')\n",
        "for x in range(5): # Para x em 0 até 4 \n",
        "    print(x)\n"
      ],
      "execution_count": 14,
      "outputs": [
        {
          "output_type": "stream",
          "text": [
            " Para criar uma sequência numérica de iteração em Python, podemos usar a função range()\n",
            "0\n",
            "1\n",
            "2\n",
            "3\n",
            "4\n"
          ],
          "name": "stdout"
        }
      ]
    },
    {
      "cell_type": "code",
      "metadata": {
        "colab": {
          "base_uri": "https://localhost:8080/"
        },
        "id": "kRN0uVzQQpbp",
        "outputId": "b2e57211-9f83-42b7-de28-7dfa728b1fab"
      },
      "source": [
        "# Método 1\n",
        "for i in range(10):\n",
        "    print(i)\n",
        "\t\n",
        "\t# Método 2\n",
        "for i in range(0, 5):\n",
        "\t    print(i)\n",
        "\t    \n",
        "\t#Método 3\n",
        "for i in range(0, 20, 2):\n",
        "\t    print(i)"
      ],
      "execution_count": 15,
      "outputs": [
        {
          "output_type": "stream",
          "text": [
            "0\n",
            "1\n",
            "2\n",
            "3\n",
            "4\n",
            "5\n",
            "6\n",
            "7\n",
            "8\n",
            "9\n",
            "0\n",
            "1\n",
            "2\n",
            "3\n",
            "4\n",
            "0\n",
            "2\n",
            "4\n",
            "6\n",
            "8\n",
            "10\n",
            "12\n",
            "14\n",
            "16\n",
            "18\n"
          ],
          "name": "stdout"
        }
      ]
    },
    {
      "cell_type": "code",
      "metadata": {
        "colab": {
          "base_uri": "https://localhost:8080/"
        },
        "id": "ctVE9J9nRJ_H",
        "outputId": "a219b288-42cf-413e-ee29-1d0a1112d20d"
      },
      "source": [
        "# Exemplo de uso do break\n",
        "disciplina = \"Linguagem de programação\"\n",
        "for c in disciplina: # Para c em disciplina faça\n",
        "    if c == 'a': # Se c for igual a 'a'\n",
        "        break # pare\n",
        "    else: # Enquanto o if for falso, faça\n",
        "        print(c)\n"
      ],
      "execution_count": 16,
      "outputs": [
        {
          "output_type": "stream",
          "text": [
            "L\n",
            "i\n",
            "n\n",
            "g\n",
            "u\n"
          ],
          "name": "stdout"
        }
      ]
    },
    {
      "cell_type": "code",
      "metadata": {
        "colab": {
          "base_uri": "https://localhost:8080/"
        },
        "id": "AsGIyu3PRtHv",
        "outputId": "e51a31ba-2aad-43fa-8e76-e4b4407caaa7"
      },
      "source": [
        "# Exemplo de uso do continue\n",
        "disciplina = \"Linguagem de programação\"\n",
        "for c in disciplina:\n",
        "    if c == 'a': # Aqui será pulado a letra a\n",
        "        continue\n",
        "    else:\n",
        "        print(c)"
      ],
      "execution_count": 17,
      "outputs": [
        {
          "output_type": "stream",
          "text": [
            "L\n",
            "i\n",
            "n\n",
            "g\n",
            "u\n",
            "g\n",
            "e\n",
            "m\n",
            " \n",
            "d\n",
            "e\n",
            " \n",
            "p\n",
            "r\n",
            "o\n",
            "g\n",
            "r\n",
            "m\n",
            "ç\n",
            "ã\n",
            "o\n"
          ],
          "name": "stdout"
        }
      ]
    },
    {
      "cell_type": "code",
      "metadata": {
        "colab": {
          "base_uri": "https://localhost:8080/"
        },
        "id": "9DtOw9eZR21p",
        "outputId": "77ef42d0-b486-41d2-ab84-806f35d29297"
      },
      "source": [
        "texto = \"\"\"\n",
        "A inserção de comentários no código do programa é uma prática normal.\n",
        "Em função disso, toda linguagem de programação tem alguma maneira de permitir que comentários sejam inseridos nos programas.\n",
        "O objetivo é adicionar descrições em partes do código, seja para documentá-lo ou para adicionar uma descrição do algoritmo implementado (BANIN, p. 45, 2018).\"\n",
        "\"\"\"\n",
        "cont = 0\n",
        "for i, c in enumerate(texto): # Para i e c em texto faça\n",
        "    if c == 'a' or c == 'e': # Se c for igual a 'a' ou c for igual a 'e' faça\n",
        "        print(f\"Vogal '{c}' encontrada, na posição {i}\") # imprima c e mostre a posição i\n",
        "        \n",
        "    else:\n",
        "        continue\n",
        "    cont++\n",
        "print(f'Foram encontradas')        "
      ],
      "execution_count": 18,
      "outputs": [
        {
          "output_type": "stream",
          "text": [
            "Vogal 'e' encontrada, na posição 6\n",
            "Vogal 'e' encontrada, na posição 13\n",
            "Vogal 'e' encontrada, na posição 18\n",
            "Vogal 'a' encontrada, na posição 45\n",
            "Vogal 'a' encontrada, na posição 47\n",
            "Vogal 'a' encontrada, na posição 53\n",
            "Vogal 'a' encontrada, na posição 61\n",
            "Vogal 'a' encontrada, na posição 67\n",
            "Vogal 'a' encontrada, na posição 91\n",
            "Vogal 'a' encontrada, na posição 98\n",
            "Vogal 'e' encontrada, na posição 100\n",
            "Vogal 'e' encontrada, na posição 104\n",
            "Vogal 'a' encontrada, na posição 111\n",
            "Vogal 'a' encontrada, na posição 113\n",
            "Vogal 'e' encontrada, na posição 119\n",
            "Vogal 'a' encontrada, na posição 122\n",
            "Vogal 'a' encontrada, na posição 127\n",
            "Vogal 'a' encontrada, na posição 130\n",
            "Vogal 'e' encontrada, na posição 132\n",
            "Vogal 'a' encontrada, na posição 135\n",
            "Vogal 'e' encontrada, na posição 138\n",
            "Vogal 'e' encontrada, na posição 141\n",
            "Vogal 'e' encontrada, na posição 151\n",
            "Vogal 'e' encontrada, na posição 156\n",
            "Vogal 'e' encontrada, na posição 166\n",
            "Vogal 'a' encontrada, na posição 168\n",
            "Vogal 'e' encontrada, na posição 174\n",
            "Vogal 'a' encontrada, na posição 190\n",
            "Vogal 'a' encontrada, na posição 192\n",
            "Vogal 'e' encontrada, na posição 201\n",
            "Vogal 'a' encontrada, na posição 209\n",
            "Vogal 'a' encontrada, na posição 216\n",
            "Vogal 'e' encontrada, na posição 220\n",
            "Vogal 'e' encontrada, na posição 227\n",
            "Vogal 'e' encontrada, na posição 230\n",
            "Vogal 'a' encontrada, na posição 234\n",
            "Vogal 'e' encontrada, na posição 237\n",
            "Vogal 'e' encontrada, na posição 252\n",
            "Vogal 'a' encontrada, na posição 254\n",
            "Vogal 'a' encontrada, na posição 257\n",
            "Vogal 'a' encontrada, na posição 259\n",
            "Vogal 'e' encontrada, na posição 266\n",
            "Vogal 'a' encontrada, na posição 278\n",
            "Vogal 'a' encontrada, na posição 280\n",
            "Vogal 'a' encontrada, na posição 282\n",
            "Vogal 'a' encontrada, na posição 289\n",
            "Vogal 'a' encontrada, na posição 294\n",
            "Vogal 'e' encontrada, na posição 297\n",
            "Vogal 'a' encontrada, na posição 309\n",
            "Vogal 'e' encontrada, na posição 323\n",
            "Vogal 'e' encontrada, na posição 325\n",
            "Vogal 'a' encontrada, na posição 328\n"
          ],
          "name": "stdout"
        }
      ]
    },
    {
      "cell_type": "code",
      "metadata": {
        "colab": {
          "base_uri": "https://localhost:8080/"
        },
        "id": "wFg8y2csTWyD",
        "outputId": "b47f4ad0-2917-4938-d64a-239cd77dd7e0"
      },
      "source": [
        "texto = \"\"\"\n",
        "A inserção de comentários no código do programa é uma prática normal.\n",
        "Em função disso, toda linguagem de programação tem alguma maneira de permitir que comentários sejam inseridos nos programas.\n",
        "O objetivo é adicionar descrições em partes do código, seja para documentá-lo ou para adicionar uma descrição do algoritmo implementado (BANIN, p. 45, 2018).\"\n",
        "\"\"\"\n",
        "conte = 0\n",
        "conta = 0\n",
        "for i, c in enumerate(texto): # Para i e c em texto faça\n",
        "    if c == 'a': # Se c for igual a 'a' faça\n",
        "        print(f\"Vogal '{c}' encontrada, na posição {i}\") # imprima c e mostre a posição i\n",
        "        conta = conta + 1\n",
        "    elif c == 'e':    \n",
        "        print(f\"Vogal '{c}' encontrada, na posição {i}\") # imprima c e mostre a posição i\n",
        "        conte = conte +1\n",
        "    else:\n",
        "        continue\n",
        "   \n",
        "    \n",
        "print(f'Foram encontradas {conta} vogais \"a\" e {conte} vogais \"e\"') \n",
        "\n"
      ],
      "execution_count": 23,
      "outputs": [
        {
          "output_type": "stream",
          "text": [
            "Vogal 'e' encontrada, na posição 6\n",
            "Vogal 'e' encontrada, na posição 13\n",
            "Vogal 'e' encontrada, na posição 18\n",
            "Vogal 'a' encontrada, na posição 45\n",
            "Vogal 'a' encontrada, na posição 47\n",
            "Vogal 'a' encontrada, na posição 53\n",
            "Vogal 'a' encontrada, na posição 61\n",
            "Vogal 'a' encontrada, na posição 67\n",
            "Vogal 'a' encontrada, na posição 91\n",
            "Vogal 'a' encontrada, na posição 98\n",
            "Vogal 'e' encontrada, na posição 100\n",
            "Vogal 'e' encontrada, na posição 104\n",
            "Vogal 'a' encontrada, na posição 111\n",
            "Vogal 'a' encontrada, na posição 113\n",
            "Vogal 'e' encontrada, na posição 119\n",
            "Vogal 'a' encontrada, na posição 122\n",
            "Vogal 'a' encontrada, na posição 127\n",
            "Vogal 'a' encontrada, na posição 130\n",
            "Vogal 'e' encontrada, na posição 132\n",
            "Vogal 'a' encontrada, na posição 135\n",
            "Vogal 'e' encontrada, na posição 138\n",
            "Vogal 'e' encontrada, na posição 141\n",
            "Vogal 'e' encontrada, na posição 151\n",
            "Vogal 'e' encontrada, na posição 156\n",
            "Vogal 'e' encontrada, na posição 166\n",
            "Vogal 'a' encontrada, na posição 168\n",
            "Vogal 'e' encontrada, na posição 174\n",
            "Vogal 'a' encontrada, na posição 190\n",
            "Vogal 'a' encontrada, na posição 192\n",
            "Vogal 'e' encontrada, na posição 201\n",
            "Vogal 'a' encontrada, na posição 209\n",
            "Vogal 'a' encontrada, na posição 216\n",
            "Vogal 'e' encontrada, na posição 220\n",
            "Vogal 'e' encontrada, na posição 227\n",
            "Vogal 'e' encontrada, na posição 230\n",
            "Vogal 'a' encontrada, na posição 234\n",
            "Vogal 'e' encontrada, na posição 237\n",
            "Vogal 'e' encontrada, na posição 252\n",
            "Vogal 'a' encontrada, na posição 254\n",
            "Vogal 'a' encontrada, na posição 257\n",
            "Vogal 'a' encontrada, na posição 259\n",
            "Vogal 'e' encontrada, na posição 266\n",
            "Vogal 'a' encontrada, na posição 278\n",
            "Vogal 'a' encontrada, na posição 280\n",
            "Vogal 'a' encontrada, na posição 282\n",
            "Vogal 'a' encontrada, na posição 289\n",
            "Vogal 'a' encontrada, na posição 294\n",
            "Vogal 'e' encontrada, na posição 297\n",
            "Vogal 'a' encontrada, na posição 309\n",
            "Vogal 'e' encontrada, na posição 323\n",
            "Vogal 'e' encontrada, na posição 325\n",
            "Vogal 'a' encontrada, na posição 328\n",
            "Foram encontradas 29 vogais \"a\" e 23 vogais \"e\"\n"
          ],
          "name": "stdout"
        }
      ]
    }
  ]
}