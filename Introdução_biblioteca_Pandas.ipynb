{
  "nbformat": 4,
  "nbformat_minor": 0,
  "metadata": {
    "colab": {
      "name": "Introdução_biblioteca_Pandas.ipynb",
      "provenance": [],
      "authorship_tag": "ABX9TyOFVu8FHidOmD9PA86bJueU",
      "include_colab_link": true
    },
    "kernelspec": {
      "name": "python3",
      "display_name": "Python 3"
    },
    "language_info": {
      "name": "python"
    }
  },
  "cells": [
    {
      "cell_type": "markdown",
      "metadata": {
        "id": "view-in-github",
        "colab_type": "text"
      },
      "source": [
        "<a href=\"https://colab.research.google.com/github/Jnfagundes/EstudoUNOPAR/blob/main/Introdu%C3%A7%C3%A3o_biblioteca_Pandas.ipynb\" target=\"_parent\"><img src=\"https://colab.research.google.com/assets/colab-badge.svg\" alt=\"Open In Colab\"/></a>"
      ]
    },
    {
      "cell_type": "code",
      "metadata": {
        "id": "M9OWh4JGSPYi"
      },
      "source": [
        "import pandas as pd "
      ],
      "execution_count": 1,
      "outputs": []
    },
    {
      "cell_type": "markdown",
      "metadata": {
        "id": "9_LKwUfhVShy"
      },
      "source": [
        "Series"
      ]
    },
    {
      "cell_type": "code",
      "metadata": {
        "colab": {
          "base_uri": "https://localhost:8080/"
        },
        "id": "aQJ4hFbVVV4k",
        "outputId": "f67ee8f7-7721-45c7-b2cb-35e4104406c7"
      },
      "source": [
        "# Dentre todos os parâmetros esperados, somente um é obrigatório para se criar uma serie com dados. data=XXXX\n",
        "pd.Series(data=5)\n"
      ],
      "execution_count": 2,
      "outputs": [
        {
          "output_type": "execute_result",
          "data": {
            "text/plain": [
              "0    5\n",
              "dtype: int64"
            ]
          },
          "metadata": {
            "tags": []
          },
          "execution_count": 2
        }
      ]
    },
    {
      "cell_type": "code",
      "metadata": {
        "colab": {
          "base_uri": "https://localhost:8080/"
        },
        "id": "4MreMaEhXUgZ",
        "outputId": "efe429ce-b561-4e2f-df0f-d4003b3b94a7"
      },
      "source": [
        "lista_nomes = 'José Nilton  Nascimento Fagundes'.split()\n",
        "pd.Series(lista_nomes) # Cria uma serie com uma lista de nomes\n"
      ],
      "execution_count": 5,
      "outputs": [
        {
          "output_type": "execute_result",
          "data": {
            "text/plain": [
              "0          José\n",
              "1        Nilton\n",
              "2    Nascimento\n",
              "3      Fagundes\n",
              "dtype: object"
            ]
          },
          "metadata": {
            "tags": []
          },
          "execution_count": 5
        }
      ]
    },
    {
      "cell_type": "code",
      "metadata": {
        "colab": {
          "base_uri": "https://localhost:8080/"
        },
        "id": "EZGv30WsXtyM",
        "outputId": "1c037975-1692-4bf7-8f68-240a960560aa"
      },
      "source": [
        "dados = {\n",
        "    'nome1': 'José',\n",
        "    'nome2': 'Nilton',\n",
        "    'nome3': 'Nascimento',\n",
        "    'nome4': 'Fagundes',\n",
        "}\n",
        "pd.Series(dados) # Cria uma serie com um dicionário, sua chave é usada como indice.\n"
      ],
      "execution_count": 4,
      "outputs": [
        {
          "output_type": "execute_result",
          "data": {
            "text/plain": [
              "nome1          José\n",
              "nome2        Nilton\n",
              "nome3    Nascimento\n",
              "nome4      Fagundes\n",
              "dtype: object"
            ]
          },
          "metadata": {
            "tags": []
          },
          "execution_count": 4
        }
      ]
    },
    {
      "cell_type": "code",
      "metadata": {
        "colab": {
          "base_uri": "https://localhost:8080/"
        },
        "id": "kKRT7E5QY6Rs",
        "outputId": "90ab8c83-162b-427b-813f-4ce0e3c87a62"
      },
      "source": [
        "cpfs = '111.111.111-11 222.222.222.22 333.333.333.33 444.444.444.44'.split() \n",
        "\n",
        "series_dados = pd.Series(lista_nomes, index = cpfs) # Aqui estamos criando uma serie e definindo cpfs como indice\n",
        "print(series_dados)"
      ],
      "execution_count": 15,
      "outputs": [
        {
          "output_type": "stream",
          "text": [
            "111.111.111-11          José\n",
            "222.222.222.22        Nilton\n",
            "333.333.333.33    Nascimento\n",
            "444.444.444.44      Fagundes\n",
            "dtype: object\n"
          ],
          "name": "stdout"
        }
      ]
    },
    {
      "cell_type": "code",
      "metadata": {
        "colab": {
          "base_uri": "https://localhost:8080/",
          "height": 35
        },
        "id": "ufNophFxahkP",
        "outputId": "1ddde87e-bfcf-4673-f19c-e2cba1d08800"
      },
      "source": [
        "series_dados.loc['333.333.333.33'] # Aqui estamos buscando informações com um rótulo definido\n"
      ],
      "execution_count": 13,
      "outputs": [
        {
          "output_type": "execute_result",
          "data": {
            "application/vnd.google.colaboratory.intrinsic+json": {
              "type": "string"
            },
            "text/plain": [
              "'Nascimento'"
            ]
          },
          "metadata": {
            "tags": []
          },
          "execution_count": 13
        }
      ]
    },
    {
      "cell_type": "code",
      "metadata": {
        "colab": {
          "base_uri": "https://localhost:8080/"
        },
        "id": "Omlhb3WTbLIO",
        "outputId": "cf0af3c5-8bbb-4d5e-bf46-2fc8f94a4167"
      },
      "source": [
        "series_dados = pd.Series([10.2, -1, None, 15, 23.4])\n",
        "\n",
        "print('Quantidade de linhas = ', series_dados.shape) # Retorna uma tupla com o número de linhas\n",
        "print('Tipo de dados', series_dados.dtypes) # Retorna o tipo de dados, se for misto será object\n",
        "print('Os valores são únicos?', series_dados.is_unique) # Verifica se os valores são únicos (sem duplicações)\n",
        "print('Existem valores nulos?', series_dados.hasnans) # Verifica se existem valores nulos\n",
        "print('Quantos valores existem?', series_dados.count()) # Conta quantas valores existem (excluí os nulos)\n",
        "\n",
        "print('Qual o menor valor?', series_dados.min()) # Extrai o menor valor da Series (nesse caso os dados precisam ser do mesmo tipo)\n",
        "print('Qual o maior valor?', series_dados.max()) # Extrai o valor máximo, com a mesma condição do mínimo\n",
        "print('Qual a média aritmética?', series_dados.mean()) # Extrai a média aritmética de uma Series numérica\n",
        "print('Qual o desvio padrão?', series_dados.std()) # Extrai o desvio padrão de uma Series numérica\n",
        "print('Qual a mediana?', series_dados.median()) # Extrai a mediana de uma Series numérica\n",
        "\n",
        "print('\\nResumo:\\n', series_dados.describe()) # Exibe um resumo sobre os dados na Series"
      ],
      "execution_count": 16,
      "outputs": [
        {
          "output_type": "stream",
          "text": [
            "Quantidade de linhas =  (5,)\n",
            "Tipo de dados float64\n",
            "Os valores são únicos? True\n",
            "Existem valores nulos? True\n",
            "Quantos valores existem? 4\n",
            "Qual o menor valor? -1.0\n",
            "Qual o maior valor? 23.4\n",
            "Qual a média aritmética? 11.899999999999999\n",
            "Qual o desvio padrão? 10.184301645179211\n",
            "Qual a mediana? 12.6\n",
            "\n",
            "Resumo:\n",
            " count     4.000000\n",
            "mean     11.900000\n",
            "std      10.184302\n",
            "min      -1.000000\n",
            "25%       7.400000\n",
            "50%      12.600000\n",
            "75%      17.100000\n",
            "max      23.400000\n",
            "dtype: float64\n"
          ],
          "name": "stdout"
        }
      ]
    },
    {
      "cell_type": "code",
      "metadata": {
        "id": "l3HZNF90b2ao"
      },
      "source": [
        ""
      ],
      "execution_count": null,
      "outputs": []
    },
    {
      "cell_type": "markdown",
      "metadata": {
        "id": "5XNOrKf3bysv"
      },
      "source": [
        "DataFrame com lista"
      ]
    },
    {
      "cell_type": "code",
      "metadata": {
        "id": "db9gjIjxbwAE"
      },
      "source": [
        "\n",
        "lista_nomes = 'Howard Ian Peter Jonah Kellie'.split()\n",
        "lista_cpfs = '111.111.111-11 222.222.222-22 333.333.333-33 444.444.444-44 555.555.555-55'.split()\n",
        "lista_emails = 'risus.varius@dictumPhasellusin.ca Nunc@vulputate.ca fames.ac.turpis@cursusa.org non@felisullamcorper.org eget.dictum.placerat@necluctus.co.uk'.split()\n",
        "lista_idades = [32, 22, 25, 29, 38]\n",
        "\n"
      ],
      "execution_count": 17,
      "outputs": []
    },
    {
      "cell_type": "code",
      "metadata": {
        "colab": {
          "base_uri": "https://localhost:8080/",
          "height": 204
        },
        "id": "grmionXWcqyT",
        "outputId": "e2d60b4a-ed02-4ad9-d70a-ab9336843a34"
      },
      "source": [
        "pd.DataFrame(lista_nomes, columns=['nome']) # Como não definimos indices é criado um range.\n"
      ],
      "execution_count": 18,
      "outputs": [
        {
          "output_type": "execute_result",
          "data": {
            "text/html": [
              "<div>\n",
              "<style scoped>\n",
              "    .dataframe tbody tr th:only-of-type {\n",
              "        vertical-align: middle;\n",
              "    }\n",
              "\n",
              "    .dataframe tbody tr th {\n",
              "        vertical-align: top;\n",
              "    }\n",
              "\n",
              "    .dataframe thead th {\n",
              "        text-align: right;\n",
              "    }\n",
              "</style>\n",
              "<table border=\"1\" class=\"dataframe\">\n",
              "  <thead>\n",
              "    <tr style=\"text-align: right;\">\n",
              "      <th></th>\n",
              "      <th>nome</th>\n",
              "    </tr>\n",
              "  </thead>\n",
              "  <tbody>\n",
              "    <tr>\n",
              "      <th>0</th>\n",
              "      <td>Howard</td>\n",
              "    </tr>\n",
              "    <tr>\n",
              "      <th>1</th>\n",
              "      <td>Ian</td>\n",
              "    </tr>\n",
              "    <tr>\n",
              "      <th>2</th>\n",
              "      <td>Peter</td>\n",
              "    </tr>\n",
              "    <tr>\n",
              "      <th>3</th>\n",
              "      <td>Jonah</td>\n",
              "    </tr>\n",
              "    <tr>\n",
              "      <th>4</th>\n",
              "      <td>Kellie</td>\n",
              "    </tr>\n",
              "  </tbody>\n",
              "</table>\n",
              "</div>"
            ],
            "text/plain": [
              "     nome\n",
              "0  Howard\n",
              "1     Ian\n",
              "2   Peter\n",
              "3   Jonah\n",
              "4  Kellie"
            ]
          },
          "metadata": {
            "tags": []
          },
          "execution_count": 18
        }
      ]
    },
    {
      "cell_type": "code",
      "metadata": {
        "colab": {
          "base_uri": "https://localhost:8080/",
          "height": 204
        },
        "id": "Br2o7tPicvY6",
        "outputId": "b5088090-0838-417f-aee5-77e58a8b9b4b"
      },
      "source": [
        "pd.DataFrame(lista_nomes, columns=['nome'], index=lista_cpfs) # Definimos lista_cpfs como indices\n"
      ],
      "execution_count": 19,
      "outputs": [
        {
          "output_type": "execute_result",
          "data": {
            "text/html": [
              "<div>\n",
              "<style scoped>\n",
              "    .dataframe tbody tr th:only-of-type {\n",
              "        vertical-align: middle;\n",
              "    }\n",
              "\n",
              "    .dataframe tbody tr th {\n",
              "        vertical-align: top;\n",
              "    }\n",
              "\n",
              "    .dataframe thead th {\n",
              "        text-align: right;\n",
              "    }\n",
              "</style>\n",
              "<table border=\"1\" class=\"dataframe\">\n",
              "  <thead>\n",
              "    <tr style=\"text-align: right;\">\n",
              "      <th></th>\n",
              "      <th>nome</th>\n",
              "    </tr>\n",
              "  </thead>\n",
              "  <tbody>\n",
              "    <tr>\n",
              "      <th>111.111.111-11</th>\n",
              "      <td>Howard</td>\n",
              "    </tr>\n",
              "    <tr>\n",
              "      <th>222.222.222-22</th>\n",
              "      <td>Ian</td>\n",
              "    </tr>\n",
              "    <tr>\n",
              "      <th>333.333.333-33</th>\n",
              "      <td>Peter</td>\n",
              "    </tr>\n",
              "    <tr>\n",
              "      <th>444.444.444-44</th>\n",
              "      <td>Jonah</td>\n",
              "    </tr>\n",
              "    <tr>\n",
              "      <th>555.555.555-55</th>\n",
              "      <td>Kellie</td>\n",
              "    </tr>\n",
              "  </tbody>\n",
              "</table>\n",
              "</div>"
            ],
            "text/plain": [
              "                  nome\n",
              "111.111.111-11  Howard\n",
              "222.222.222-22     Ian\n",
              "333.333.333-33   Peter\n",
              "444.444.444-44   Jonah\n",
              "555.555.555-55  Kellie"
            ]
          },
          "metadata": {
            "tags": []
          },
          "execution_count": 19
        }
      ]
    },
    {
      "cell_type": "code",
      "metadata": {
        "colab": {
          "base_uri": "https://localhost:8080/",
          "height": 204
        },
        "id": "PMoap9T-dNYQ",
        "outputId": "64711d83-20c4-42e2-aeed-b374b04ae253"
      },
      "source": [
        "dados = list(zip(lista_nomes, lista_cpfs, lista_idades, lista_emails)) # cria uma lista de tuplas\n",
        "\n",
        "pd.DataFrame(dados, columns=['nome', 'cpfs', 'idade', 'email'])"
      ],
      "execution_count": 20,
      "outputs": [
        {
          "output_type": "execute_result",
          "data": {
            "text/html": [
              "<div>\n",
              "<style scoped>\n",
              "    .dataframe tbody tr th:only-of-type {\n",
              "        vertical-align: middle;\n",
              "    }\n",
              "\n",
              "    .dataframe tbody tr th {\n",
              "        vertical-align: top;\n",
              "    }\n",
              "\n",
              "    .dataframe thead th {\n",
              "        text-align: right;\n",
              "    }\n",
              "</style>\n",
              "<table border=\"1\" class=\"dataframe\">\n",
              "  <thead>\n",
              "    <tr style=\"text-align: right;\">\n",
              "      <th></th>\n",
              "      <th>nome</th>\n",
              "      <th>cpfs</th>\n",
              "      <th>idade</th>\n",
              "      <th>email</th>\n",
              "    </tr>\n",
              "  </thead>\n",
              "  <tbody>\n",
              "    <tr>\n",
              "      <th>0</th>\n",
              "      <td>Howard</td>\n",
              "      <td>111.111.111-11</td>\n",
              "      <td>32</td>\n",
              "      <td>risus.varius@dictumPhasellusin.ca</td>\n",
              "    </tr>\n",
              "    <tr>\n",
              "      <th>1</th>\n",
              "      <td>Ian</td>\n",
              "      <td>222.222.222-22</td>\n",
              "      <td>22</td>\n",
              "      <td>Nunc@vulputate.ca</td>\n",
              "    </tr>\n",
              "    <tr>\n",
              "      <th>2</th>\n",
              "      <td>Peter</td>\n",
              "      <td>333.333.333-33</td>\n",
              "      <td>25</td>\n",
              "      <td>fames.ac.turpis@cursusa.org</td>\n",
              "    </tr>\n",
              "    <tr>\n",
              "      <th>3</th>\n",
              "      <td>Jonah</td>\n",
              "      <td>444.444.444-44</td>\n",
              "      <td>29</td>\n",
              "      <td>non@felisullamcorper.org</td>\n",
              "    </tr>\n",
              "    <tr>\n",
              "      <th>4</th>\n",
              "      <td>Kellie</td>\n",
              "      <td>555.555.555-55</td>\n",
              "      <td>38</td>\n",
              "      <td>eget.dictum.placerat@necluctus.co.uk</td>\n",
              "    </tr>\n",
              "  </tbody>\n",
              "</table>\n",
              "</div>"
            ],
            "text/plain": [
              "     nome            cpfs  idade                                 email\n",
              "0  Howard  111.111.111-11     32     risus.varius@dictumPhasellusin.ca\n",
              "1     Ian  222.222.222-22     22                     Nunc@vulputate.ca\n",
              "2   Peter  333.333.333-33     25           fames.ac.turpis@cursusa.org\n",
              "3   Jonah  444.444.444-44     29              non@felisullamcorper.org\n",
              "4  Kellie  555.555.555-55     38  eget.dictum.placerat@necluctus.co.uk"
            ]
          },
          "metadata": {
            "tags": []
          },
          "execution_count": 20
        }
      ]
    },
    {
      "cell_type": "code",
      "metadata": {
        "id": "LL70QPMOdiUR"
      },
      "source": [
        ""
      ],
      "execution_count": null,
      "outputs": []
    },
    {
      "cell_type": "markdown",
      "metadata": {
        "id": "7kD2ymBcdh8x"
      },
      "source": [
        "DataFrame com dicionário"
      ]
    },
    {
      "cell_type": "code",
      "metadata": {
        "colab": {
          "base_uri": "https://localhost:8080/",
          "height": 204
        },
        "id": "Al1JrXsEdnnF",
        "outputId": "c94ce683-0460-4cd6-9f33-121c53362256"
      },
      "source": [
        "dados = {\n",
        "    'nomes': 'Howard Ian Peter Jonah Kellie'.split(),\n",
        "    'cpfs' : '111.111.111-11 222.222.222-22 333.333.333-33 444.444.444-44 555.555.555-55'.split(),\n",
        "    'emails' : 'risus.varius@dictumPhasellusin.ca Nunc@vulputate.ca fames.ac.turpis@cursusa.org non@felisullamcorper.org eget.dictum.placerat@necluctus.co.uk'.split(),\n",
        "    'idades' : [32, 22, 25, 29, 38]\n",
        "}\n",
        "\n",
        "pd.DataFrame(dados)"
      ],
      "execution_count": 21,
      "outputs": [
        {
          "output_type": "execute_result",
          "data": {
            "text/html": [
              "<div>\n",
              "<style scoped>\n",
              "    .dataframe tbody tr th:only-of-type {\n",
              "        vertical-align: middle;\n",
              "    }\n",
              "\n",
              "    .dataframe tbody tr th {\n",
              "        vertical-align: top;\n",
              "    }\n",
              "\n",
              "    .dataframe thead th {\n",
              "        text-align: right;\n",
              "    }\n",
              "</style>\n",
              "<table border=\"1\" class=\"dataframe\">\n",
              "  <thead>\n",
              "    <tr style=\"text-align: right;\">\n",
              "      <th></th>\n",
              "      <th>nomes</th>\n",
              "      <th>cpfs</th>\n",
              "      <th>emails</th>\n",
              "      <th>idades</th>\n",
              "    </tr>\n",
              "  </thead>\n",
              "  <tbody>\n",
              "    <tr>\n",
              "      <th>0</th>\n",
              "      <td>Howard</td>\n",
              "      <td>111.111.111-11</td>\n",
              "      <td>risus.varius@dictumPhasellusin.ca</td>\n",
              "      <td>32</td>\n",
              "    </tr>\n",
              "    <tr>\n",
              "      <th>1</th>\n",
              "      <td>Ian</td>\n",
              "      <td>222.222.222-22</td>\n",
              "      <td>Nunc@vulputate.ca</td>\n",
              "      <td>22</td>\n",
              "    </tr>\n",
              "    <tr>\n",
              "      <th>2</th>\n",
              "      <td>Peter</td>\n",
              "      <td>333.333.333-33</td>\n",
              "      <td>fames.ac.turpis@cursusa.org</td>\n",
              "      <td>25</td>\n",
              "    </tr>\n",
              "    <tr>\n",
              "      <th>3</th>\n",
              "      <td>Jonah</td>\n",
              "      <td>444.444.444-44</td>\n",
              "      <td>non@felisullamcorper.org</td>\n",
              "      <td>29</td>\n",
              "    </tr>\n",
              "    <tr>\n",
              "      <th>4</th>\n",
              "      <td>Kellie</td>\n",
              "      <td>555.555.555-55</td>\n",
              "      <td>eget.dictum.placerat@necluctus.co.uk</td>\n",
              "      <td>38</td>\n",
              "    </tr>\n",
              "  </tbody>\n",
              "</table>\n",
              "</div>"
            ],
            "text/plain": [
              "    nomes            cpfs                                emails  idades\n",
              "0  Howard  111.111.111-11     risus.varius@dictumPhasellusin.ca      32\n",
              "1     Ian  222.222.222-22                     Nunc@vulputate.ca      22\n",
              "2   Peter  333.333.333-33           fames.ac.turpis@cursusa.org      25\n",
              "3   Jonah  444.444.444-44              non@felisullamcorper.org      29\n",
              "4  Kellie  555.555.555-55  eget.dictum.placerat@necluctus.co.uk      38"
            ]
          },
          "metadata": {
            "tags": []
          },
          "execution_count": 21
        }
      ]
    },
    {
      "cell_type": "code",
      "metadata": {
        "colab": {
          "base_uri": "https://localhost:8080/",
          "height": 1000
        },
        "id": "dw1maBJZeBUZ",
        "outputId": "36a48923-73b0-4988-9297-7ad41b44377f"
      },
      "source": [
        "\n",
        "df_dados = pd.DataFrame(dados)\n",
        "\n",
        "print('\\nInformações do DataFrame:\\n')\n",
        "print(df_dados.info()) # Apresenta informações sobre a estrutura do DF\n",
        "\n",
        "print('\\nQuantidade de linhas e colunas = ', df_dados.shape) # Retorna uma tupla com o número de linhas e colunas\n",
        "print('\\nTipo de dados:\\n', df_dados.dtypes) # Retorna o tipo de dados, para cada coluna, se for misto será object\n",
        "\n",
        "print('\\nQual o menor valor de cada coluna?\\n', df_dados.min()) # Extrai o menor de cada coluna \n",
        "print('\\nQual o maior valor?\\n', df_dados.max()) # Extrai o valor máximo e cada coluna \n",
        "print('\\nQual a média aritmética?\\n', df_dados.mean()) # Extrai a média aritmética de cada coluna numérica\n",
        "print('\\nQual o desvio padrão?\\n', df_dados.std()) # Extrai o desvio padrão de cada coluna numérica\n",
        "print('\\nQual a mediana?\\n', df_dados.median()) # Extrai a mediana de cada coluna numérica\n",
        "\n",
        "print('\\nResumo:\\n', df_dados.describe()) # Exibe um resumo\n",
        "\n",
        "df_dados.head() # Exibe os 5 primeiros registros do DataFrame\n"
      ],
      "execution_count": 22,
      "outputs": [
        {
          "output_type": "stream",
          "text": [
            "\n",
            "Informações do DataFrame:\n",
            "\n",
            "<class 'pandas.core.frame.DataFrame'>\n",
            "RangeIndex: 5 entries, 0 to 4\n",
            "Data columns (total 4 columns):\n",
            " #   Column  Non-Null Count  Dtype \n",
            "---  ------  --------------  ----- \n",
            " 0   nomes   5 non-null      object\n",
            " 1   cpfs    5 non-null      object\n",
            " 2   emails  5 non-null      object\n",
            " 3   idades  5 non-null      int64 \n",
            "dtypes: int64(1), object(3)\n",
            "memory usage: 288.0+ bytes\n",
            "None\n",
            "\n",
            "Quantidade de linhas e colunas =  (5, 4)\n",
            "\n",
            "Tipo de dados:\n",
            " nomes     object\n",
            "cpfs      object\n",
            "emails    object\n",
            "idades     int64\n",
            "dtype: object\n",
            "\n",
            "Qual o menor valor de cada coluna?\n",
            " nomes                Howard\n",
            "cpfs         111.111.111-11\n",
            "emails    Nunc@vulputate.ca\n",
            "idades                   22\n",
            "dtype: object\n",
            "\n",
            "Qual o maior valor?\n",
            " nomes                                 Peter\n",
            "cpfs                         555.555.555-55\n",
            "emails    risus.varius@dictumPhasellusin.ca\n",
            "idades                                   38\n",
            "dtype: object\n",
            "\n",
            "Qual a média aritmética?\n",
            " idades    29.2\n",
            "dtype: float64\n",
            "\n",
            "Qual o desvio padrão?\n",
            " idades    6.220932\n",
            "dtype: float64\n",
            "\n",
            "Qual a mediana?\n",
            " idades    29.0\n",
            "dtype: float64\n",
            "\n",
            "Resumo:\n",
            "           idades\n",
            "count   5.000000\n",
            "mean   29.200000\n",
            "std     6.220932\n",
            "min    22.000000\n",
            "25%    25.000000\n",
            "50%    29.000000\n",
            "75%    32.000000\n",
            "max    38.000000\n"
          ],
          "name": "stdout"
        },
        {
          "output_type": "execute_result",
          "data": {
            "text/html": [
              "<div>\n",
              "<style scoped>\n",
              "    .dataframe tbody tr th:only-of-type {\n",
              "        vertical-align: middle;\n",
              "    }\n",
              "\n",
              "    .dataframe tbody tr th {\n",
              "        vertical-align: top;\n",
              "    }\n",
              "\n",
              "    .dataframe thead th {\n",
              "        text-align: right;\n",
              "    }\n",
              "</style>\n",
              "<table border=\"1\" class=\"dataframe\">\n",
              "  <thead>\n",
              "    <tr style=\"text-align: right;\">\n",
              "      <th></th>\n",
              "      <th>nomes</th>\n",
              "      <th>cpfs</th>\n",
              "      <th>emails</th>\n",
              "      <th>idades</th>\n",
              "    </tr>\n",
              "  </thead>\n",
              "  <tbody>\n",
              "    <tr>\n",
              "      <th>0</th>\n",
              "      <td>Howard</td>\n",
              "      <td>111.111.111-11</td>\n",
              "      <td>risus.varius@dictumPhasellusin.ca</td>\n",
              "      <td>32</td>\n",
              "    </tr>\n",
              "    <tr>\n",
              "      <th>1</th>\n",
              "      <td>Ian</td>\n",
              "      <td>222.222.222-22</td>\n",
              "      <td>Nunc@vulputate.ca</td>\n",
              "      <td>22</td>\n",
              "    </tr>\n",
              "    <tr>\n",
              "      <th>2</th>\n",
              "      <td>Peter</td>\n",
              "      <td>333.333.333-33</td>\n",
              "      <td>fames.ac.turpis@cursusa.org</td>\n",
              "      <td>25</td>\n",
              "    </tr>\n",
              "    <tr>\n",
              "      <th>3</th>\n",
              "      <td>Jonah</td>\n",
              "      <td>444.444.444-44</td>\n",
              "      <td>non@felisullamcorper.org</td>\n",
              "      <td>29</td>\n",
              "    </tr>\n",
              "    <tr>\n",
              "      <th>4</th>\n",
              "      <td>Kellie</td>\n",
              "      <td>555.555.555-55</td>\n",
              "      <td>eget.dictum.placerat@necluctus.co.uk</td>\n",
              "      <td>38</td>\n",
              "    </tr>\n",
              "  </tbody>\n",
              "</table>\n",
              "</div>"
            ],
            "text/plain": [
              "    nomes            cpfs                                emails  idades\n",
              "0  Howard  111.111.111-11     risus.varius@dictumPhasellusin.ca      32\n",
              "1     Ian  222.222.222-22                     Nunc@vulputate.ca      22\n",
              "2   Peter  333.333.333-33           fames.ac.turpis@cursusa.org      25\n",
              "3   Jonah  444.444.444-44              non@felisullamcorper.org      29\n",
              "4  Kellie  555.555.555-55  eget.dictum.placerat@necluctus.co.uk      38"
            ]
          },
          "metadata": {
            "tags": []
          },
          "execution_count": 22
        }
      ]
    },
    {
      "cell_type": "code",
      "metadata": {
        "id": "ro18ruu3eSBq"
      },
      "source": [
        ""
      ],
      "execution_count": null,
      "outputs": []
    },
    {
      "cell_type": "markdown",
      "metadata": {
        "id": "hSjE33aYeaYm"
      },
      "source": [
        "Seleção de colunas em um dataFrame"
      ]
    },
    {
      "cell_type": "code",
      "metadata": {
        "colab": {
          "base_uri": "https://localhost:8080/"
        },
        "id": "4zVenc9AemAB",
        "outputId": "01580360-5f10-4113-ff7c-c590d11c8c74"
      },
      "source": [
        "\n",
        "df_uma_coluna = df_dados['idades']\n",
        "print(type(df_uma_coluna))\n",
        "\n",
        "print('Média de idades = ', df_uma_coluna.mean())\n",
        "\n",
        "df_uma_coluna\n"
      ],
      "execution_count": 23,
      "outputs": [
        {
          "output_type": "stream",
          "text": [
            "<class 'pandas.core.series.Series'>\n",
            "Média de idades =  29.2\n"
          ],
          "name": "stdout"
        },
        {
          "output_type": "execute_result",
          "data": {
            "text/plain": [
              "0    32\n",
              "1    22\n",
              "2    25\n",
              "3    29\n",
              "4    38\n",
              "Name: idades, dtype: int64"
            ]
          },
          "metadata": {
            "tags": []
          },
          "execution_count": 23
        }
      ]
    },
    {
      "cell_type": "code",
      "metadata": {
        "colab": {
          "base_uri": "https://localhost:8080/",
          "height": 221
        },
        "id": "uUesjqaKfBfy",
        "outputId": "dec2e97e-84b6-4c4b-cf4f-68586c0f0e1f"
      },
      "source": [
        "\n",
        "colunas = ['nomes', 'cpfs']\n",
        "df_duas_colunas = df_dados[colunas]\n",
        "print(type(df_duas_colunas))\n",
        "df_duas_colunas\n"
      ],
      "execution_count": 24,
      "outputs": [
        {
          "output_type": "stream",
          "text": [
            "<class 'pandas.core.frame.DataFrame'>\n"
          ],
          "name": "stdout"
        },
        {
          "output_type": "execute_result",
          "data": {
            "text/html": [
              "<div>\n",
              "<style scoped>\n",
              "    .dataframe tbody tr th:only-of-type {\n",
              "        vertical-align: middle;\n",
              "    }\n",
              "\n",
              "    .dataframe tbody tr th {\n",
              "        vertical-align: top;\n",
              "    }\n",
              "\n",
              "    .dataframe thead th {\n",
              "        text-align: right;\n",
              "    }\n",
              "</style>\n",
              "<table border=\"1\" class=\"dataframe\">\n",
              "  <thead>\n",
              "    <tr style=\"text-align: right;\">\n",
              "      <th></th>\n",
              "      <th>nomes</th>\n",
              "      <th>cpfs</th>\n",
              "    </tr>\n",
              "  </thead>\n",
              "  <tbody>\n",
              "    <tr>\n",
              "      <th>0</th>\n",
              "      <td>Howard</td>\n",
              "      <td>111.111.111-11</td>\n",
              "    </tr>\n",
              "    <tr>\n",
              "      <th>1</th>\n",
              "      <td>Ian</td>\n",
              "      <td>222.222.222-22</td>\n",
              "    </tr>\n",
              "    <tr>\n",
              "      <th>2</th>\n",
              "      <td>Peter</td>\n",
              "      <td>333.333.333-33</td>\n",
              "    </tr>\n",
              "    <tr>\n",
              "      <th>3</th>\n",
              "      <td>Jonah</td>\n",
              "      <td>444.444.444-44</td>\n",
              "    </tr>\n",
              "    <tr>\n",
              "      <th>4</th>\n",
              "      <td>Kellie</td>\n",
              "      <td>555.555.555-55</td>\n",
              "    </tr>\n",
              "  </tbody>\n",
              "</table>\n",
              "</div>"
            ],
            "text/plain": [
              "    nomes            cpfs\n",
              "0  Howard  111.111.111-11\n",
              "1     Ian  222.222.222-22\n",
              "2   Peter  333.333.333-33\n",
              "3   Jonah  444.444.444-44\n",
              "4  Kellie  555.555.555-55"
            ]
          },
          "metadata": {
            "tags": []
          },
          "execution_count": 24
        }
      ]
    },
    {
      "cell_type": "code",
      "metadata": {
        "colab": {
          "base_uri": "https://localhost:8080/"
        },
        "id": "nRp26qKbfLAN",
        "outputId": "a2b4df18-aaad-4435-b818-70b082a5143b"
      },
      "source": [
        "\n",
        "import requests\n",
        "\n",
        "texto_string = requests.get('https://www.nytimes.com/interactive/2017/06/23/opinion/trumps-lies.html').text\n",
        "print(texto_string[:100])\n"
      ],
      "execution_count": 25,
      "outputs": [
        {
          "output_type": "stream",
          "text": [
            "<!DOCTYPE html>\n",
            "<!--[if (gt IE 9)|!(IE)]> <!--><html lang=\"en\" class=\"no-js page-interactive section\n"
          ],
          "name": "stdout"
        }
      ]
    },
    {
      "cell_type": "code",
      "metadata": {
        "colab": {
          "base_uri": "https://localhost:8080/"
        },
        "id": "x_enLrP-fxM5",
        "outputId": "dac00a38-03b2-45a1-8a7d-9c8c3fed8fca"
      },
      "source": [
        "\n",
        "from bs4 import BeautifulSoup\n",
        "\n",
        "bsp_texto = BeautifulSoup(texto_string, 'html.parser')\n",
        "lista_noticias = bsp_texto.find_all('span', attrs={'class':'short-desc'})\n",
        "\n",
        "print(type(bsp_texto))\n",
        "print(type(lista_noticias))\n",
        "print(lista_noticias[5])\n",
        "\n",
        "lista_noticias[5].contents\n"
      ],
      "execution_count": 26,
      "outputs": [
        {
          "output_type": "stream",
          "text": [
            "<class 'bs4.BeautifulSoup'>\n",
            "<class 'bs4.element.ResultSet'>\n",
            "<span class=\"short-desc\"><strong>Jan. 25 </strong>“You had millions of people that now aren't insured anymore.” <span class=\"short-truth\"><a href=\"https://www.nytimes.com/2017/03/13/us/politics/fact-check-trump-obamacare-health-care.html\" target=\"_blank\">(The real number is less than 1 million, according to the Urban Institute.)</a></span></span>\n"
          ],
          "name": "stdout"
        },
        {
          "output_type": "execute_result",
          "data": {
            "text/plain": [
              "[<strong>Jan. 25 </strong>,\n",
              " \"“You had millions of people that now aren't insured anymore.” \",\n",
              " <span class=\"short-truth\"><a href=\"https://www.nytimes.com/2017/03/13/us/politics/fact-check-trump-obamacare-health-care.html\" target=\"_blank\">(The real number is less than 1 million, according to the Urban Institute.)</a></span>]"
            ]
          },
          "metadata": {
            "tags": []
          },
          "execution_count": 26
        }
      ]
    },
    {
      "cell_type": "code",
      "metadata": {
        "colab": {
          "base_uri": "https://localhost:8080/"
        },
        "id": "ggn-CV40z843",
        "outputId": "585baede-667c-469b-bc2f-1cf3c5a30072"
      },
      "source": [
        "\n",
        "dados = [] # Criação de uma lista vazia\n",
        "\n",
        "for noticia in lista_noticias:\n",
        "    data = noticia.contents[0].text.strip() + ', 2017' # Dessa informação <strong>Jan. 25 </strong> vai extrair Jan. 25, 2017\n",
        "    comentario = noticia.contents[1].strip().replace(\"“\", '').replace(\"”\", '')\n",
        "    explicacao = noticia.contents[2].text.strip().replace(\"(\", '').replace(\")\", '')\n",
        "    url = noticia.find('a')['href']\n",
        "    dados.append((data, comentario, explicacao, url))\n",
        "\n",
        "dados[1] \n"
      ],
      "execution_count": 27,
      "outputs": [
        {
          "output_type": "execute_result",
          "data": {
            "text/plain": [
              "('Jan. 21, 2017',\n",
              " 'A reporter for Time magazine — and I have been on their cover 14 or 15 times. I think we have the all-time record in the history of Time magazine.',\n",
              " 'Trump was on the cover 11 times and Nixon appeared 55 times.',\n",
              " 'http://nation.time.com/2013/11/06/10-things-you-didnt-know-about-time/')"
            ]
          },
          "metadata": {
            "tags": []
          },
          "execution_count": 27
        }
      ]
    },
    {
      "cell_type": "code",
      "metadata": {
        "colab": {
          "base_uri": "https://localhost:8080/",
          "height": 306
        },
        "id": "ZEH74qKr1MAT",
        "outputId": "7e79c47c-6652-4d89-8f02-b1f877ccca19"
      },
      "source": [
        "\n",
        "df_noticias = pd.DataFrame(dados, columns=['data', 'comentário', 'explicação', 'url'])\n",
        "\n",
        "print(df_noticias.shape)\n",
        "print(df_noticias.dtypes)\n",
        "df_noticias.head()\n"
      ],
      "execution_count": 28,
      "outputs": [
        {
          "output_type": "stream",
          "text": [
            "(180, 4)\n",
            "data          object\n",
            "comentário    object\n",
            "explicação    object\n",
            "url           object\n",
            "dtype: object\n"
          ],
          "name": "stdout"
        },
        {
          "output_type": "execute_result",
          "data": {
            "text/html": [
              "<div>\n",
              "<style scoped>\n",
              "    .dataframe tbody tr th:only-of-type {\n",
              "        vertical-align: middle;\n",
              "    }\n",
              "\n",
              "    .dataframe tbody tr th {\n",
              "        vertical-align: top;\n",
              "    }\n",
              "\n",
              "    .dataframe thead th {\n",
              "        text-align: right;\n",
              "    }\n",
              "</style>\n",
              "<table border=\"1\" class=\"dataframe\">\n",
              "  <thead>\n",
              "    <tr style=\"text-align: right;\">\n",
              "      <th></th>\n",
              "      <th>data</th>\n",
              "      <th>comentário</th>\n",
              "      <th>explicação</th>\n",
              "      <th>url</th>\n",
              "    </tr>\n",
              "  </thead>\n",
              "  <tbody>\n",
              "    <tr>\n",
              "      <th>0</th>\n",
              "      <td>Jan. 21, 2017</td>\n",
              "      <td>I wasn't a fan of Iraq. I didn't want to go in...</td>\n",
              "      <td>He was for an invasion before he was against it.</td>\n",
              "      <td>https://www.buzzfeed.com/andrewkaczynski/in-20...</td>\n",
              "    </tr>\n",
              "    <tr>\n",
              "      <th>1</th>\n",
              "      <td>Jan. 21, 2017</td>\n",
              "      <td>A reporter for Time magazine — and I have been...</td>\n",
              "      <td>Trump was on the cover 11 times and Nixon appe...</td>\n",
              "      <td>http://nation.time.com/2013/11/06/10-things-yo...</td>\n",
              "    </tr>\n",
              "    <tr>\n",
              "      <th>2</th>\n",
              "      <td>Jan. 23, 2017</td>\n",
              "      <td>Between 3 million and 5 million illegal votes ...</td>\n",
              "      <td>There's no evidence of illegal voting.</td>\n",
              "      <td>https://www.nytimes.com/2017/01/23/us/politics...</td>\n",
              "    </tr>\n",
              "    <tr>\n",
              "      <th>3</th>\n",
              "      <td>Jan. 25, 2017</td>\n",
              "      <td>Now, the audience was the biggest ever. But th...</td>\n",
              "      <td>Official aerial photos show Obama's 2009 inaug...</td>\n",
              "      <td>https://www.nytimes.com/2017/01/21/us/politics...</td>\n",
              "    </tr>\n",
              "    <tr>\n",
              "      <th>4</th>\n",
              "      <td>Jan. 25, 2017</td>\n",
              "      <td>Take a look at the Pew reports (which show vot...</td>\n",
              "      <td>The report never mentioned voter fraud.</td>\n",
              "      <td>https://www.nytimes.com/2017/01/24/us/politics...</td>\n",
              "    </tr>\n",
              "  </tbody>\n",
              "</table>\n",
              "</div>"
            ],
            "text/plain": [
              "            data  ...                                                url\n",
              "0  Jan. 21, 2017  ...  https://www.buzzfeed.com/andrewkaczynski/in-20...\n",
              "1  Jan. 21, 2017  ...  http://nation.time.com/2013/11/06/10-things-yo...\n",
              "2  Jan. 23, 2017  ...  https://www.nytimes.com/2017/01/23/us/politics...\n",
              "3  Jan. 25, 2017  ...  https://www.nytimes.com/2017/01/21/us/politics...\n",
              "4  Jan. 25, 2017  ...  https://www.nytimes.com/2017/01/24/us/politics...\n",
              "\n",
              "[5 rows x 4 columns]"
            ]
          },
          "metadata": {
            "tags": []
          },
          "execution_count": 28
        }
      ]
    },
    {
      "cell_type": "code",
      "metadata": {
        "id": "BhPwBult1Qus"
      },
      "source": [
        "\n",
        "url = 'https://ge.globo.com/futebol/brasileirao-serie-b/'\n",
        "dfs = pd.read_html(url)\n",
        "\n",
        "print(type(dfs))\n",
        "print(len(dfs))\n"
      ],
      "execution_count": null,
      "outputs": []
    },
    {
      "cell_type": "code",
      "metadata": {
        "id": "10A6lomU5cza"
      },
      "source": [
        "df_bancos = dfs[0]\n",
        "\n",
        "print(df_bancos.shape)\n",
        "print(df_bancos.dtypes)\n",
        "\n",
        "df_bancos.head()"
      ],
      "execution_count": null,
      "outputs": []
    },
    {
      "cell_type": "markdown",
      "metadata": {
        "id": "zbd2vNdg6JBD"
      },
      "source": [
        "Atividade Prática"
      ]
    },
    {
      "cell_type": "code",
      "metadata": {
        "colab": {
          "base_uri": "https://localhost:8080/"
        },
        "id": "RYQQR9cH58Qp",
        "outputId": "5a68dea0-bf41-4b93-f65e-9cbee1d63303"
      },
      "source": [
        "\n",
        "from datetime import datetime\n",
        "\n",
        "import requests\n",
        "from bs4 import BeautifulSoup\n",
        "import pandas as pd\n",
        "\n",
        "texto_string = requests.get('https://globoesporte.globo.com/').text\n",
        "hora_extracao = datetime.now().strftime(\"%d-%m-%Y %H:%M:%S\")\n",
        "\n",
        "bsp_texto = BeautifulSoup(texto_string, 'html.parser')\n",
        "lista_noticias = bsp_texto.find_all('div', attrs={'class':'feed-post-body'})\n",
        "print(\"Quantidade de manchetes = \", len(lista_noticias))\n",
        "lista_noticias[0].contents\n"
      ],
      "execution_count": 34,
      "outputs": [
        {
          "output_type": "stream",
          "text": [
            "Quantidade de manchetes =  10\n"
          ],
          "name": "stdout"
        },
        {
          "output_type": "execute_result",
          "data": {
            "text/plain": [
              "[<div class=\"feed-post-header\"></div>,\n",
              " <div class=\"_label_event\"><div class=\"feed-post-body-title gui-color-primary gui-color-hover \"><div class=\"_ne\"><a class=\"feed-post-link gui-color-primary gui-color-hover\" href=\"https://interativos.globoesporte.globo.com/futebol/brasileirao-serie-a/chuta-ai/chuta-ai-os-artilheiros-dos-clubes-em-cada-edicao-do-brasileiro\">⚽ CHUTA AÍ</a></div></div></div>,\n",
              " <div class=\"_label_event\"><div class=\"feed-post-body-resumo\">Você consegue adivinhar os maiores artilheiros dos clubes em uma só edição do Brasileirão? Chuta aí</div></div>,\n",
              " <div class=\"feed-media-wrapper\"><div class=\"_label_event\"><a class=\"feed-post-figure-link gui-image-hover\" href=\"https://interativos.globoesporte.globo.com/futebol/brasileirao-serie-a/chuta-ai/chuta-ai-os-artilheiros-dos-clubes-em-cada-edicao-do-brasileiro\"><div class=\"bstn-fd-item-cover \"><picture class=\"bstn-fd-cover-picture\"><img class=\"bstn-fd-picture-image\" loading=\"lazy\" src=\"https://s2.glbimg.com/Nsxosi1ch15y4fFQT0ZcesO1S0I=/0x0:1080x608/540x304/smart/filters:max_age(3600)/https://s3.glbimg.com/v1/AUTH_08fb001c60b847468664307c11fa9dc9/public/2021/5/FXrfjueqmRbuFFZOpHv1.jpg\" srcset=\"https://s2.glbimg.com/Nsxosi1ch15y4fFQT0ZcesO1S0I=/0x0:1080x608/540x304/smart/filters:max_age(3600)/https://s3.glbimg.com/v1/AUTH_08fb001c60b847468664307c11fa9dc9/public/2021/5/FXrfjueqmRbuFFZOpHv1.jpg 1x,https://s2.glbimg.com/oD5nTu0tN357XS-FiIkF631QXJY=/0x0:1080x608/810x456/smart/filters:max_age(3600)/https://s3.glbimg.com/v1/AUTH_08fb001c60b847468664307c11fa9dc9/public/2021/5/FXrfjueqmRbuFFZOpHv1.jpg 1.5x,https://s2.glbimg.com/XRt5nDPrv07n6uIk3n3QIWR36YQ=/0x0:1080x608/1080x608/smart/filters:max_age(3600)/https://s3.glbimg.com/v1/AUTH_08fb001c60b847468664307c11fa9dc9/public/2021/5/FXrfjueqmRbuFFZOpHv1.jpg 2x\"/></picture></div></a></div></div>,\n",
              " <div class=\"feed-post-metadata\"><span class=\"feed-post-datetime\">Há 37 minutos</span></div>]"
            ]
          },
          "metadata": {
            "tags": []
          },
          "execution_count": 34
        }
      ]
    },
    {
      "cell_type": "code",
      "metadata": {
        "colab": {
          "base_uri": "https://localhost:8080/",
          "height": 35
        },
        "id": "M-fpiFHA8REv",
        "outputId": "173a464e-3aac-463a-c3d9-da1501b3a86c"
      },
      "source": [
        "lista_noticias[0].contents[1].text.replace('\"',\"\")"
      ],
      "execution_count": 35,
      "outputs": [
        {
          "output_type": "execute_result",
          "data": {
            "application/vnd.google.colaboratory.intrinsic+json": {
              "type": "string"
            },
            "text/plain": [
              "'⚽ CHUTA AÍ'"
            ]
          },
          "metadata": {
            "tags": []
          },
          "execution_count": 35
        }
      ]
    },
    {
      "cell_type": "code",
      "metadata": {
        "colab": {
          "base_uri": "https://localhost:8080/",
          "height": 35
        },
        "id": "HysVhdct8W2i",
        "outputId": "fc216731-4604-4435-e18b-8e5f6f89100b"
      },
      "source": [
        "lista_noticias[0].find('a').get('href')"
      ],
      "execution_count": 36,
      "outputs": [
        {
          "output_type": "execute_result",
          "data": {
            "application/vnd.google.colaboratory.intrinsic+json": {
              "type": "string"
            },
            "text/plain": [
              "'https://interativos.globoesporte.globo.com/futebol/brasileirao-serie-a/chuta-ai/chuta-ai-os-artilheiros-dos-clubes-em-cada-edicao-do-brasileiro'"
            ]
          },
          "metadata": {
            "tags": []
          },
          "execution_count": 36
        }
      ]
    },
    {
      "cell_type": "code",
      "metadata": {
        "colab": {
          "base_uri": "https://localhost:8080/",
          "height": 35
        },
        "id": "AZHvbeKt8dJ8",
        "outputId": "348079ec-7bd8-40e9-ab71-dd9ce1a8eca8"
      },
      "source": [
        "\n",
        "descricao = lista_noticias[0].contents[2].text\n",
        "if not descricao:\n",
        "    descricao = noticia.find('div', attrs={'class': 'bstn-related'})\n",
        "    descricao = descricao.text if descricao else None # Somente acessará a propriedade text caso tenha encontrado (\"find\")\n",
        "descricao\n"
      ],
      "execution_count": 37,
      "outputs": [
        {
          "output_type": "execute_result",
          "data": {
            "application/vnd.google.colaboratory.intrinsic+json": {
              "type": "string"
            },
            "text/plain": [
              "'Você consegue adivinhar os maiores artilheiros dos clubes em uma só edição do Brasileirão? Chuta aí'"
            ]
          },
          "metadata": {
            "tags": []
          },
          "execution_count": 37
        }
      ]
    },
    {
      "cell_type": "code",
      "metadata": {
        "colab": {
          "base_uri": "https://localhost:8080/"
        },
        "id": "WI_Ih6H08lT-",
        "outputId": "b1662146-e565-4662-e495-c46541f198d7"
      },
      "source": [
        "\n",
        "metadados = lista_noticias[0].find('div', attrs={'class':'feed-post-metadata'})\n",
        "\n",
        "time_delta = metadados.find('span', attrs={'class': 'feed-post-datetime'})\n",
        "secao = metadados.find('span', attrs={'class': 'feed-post-metadata-section'})\n",
        "\n",
        "time_delta = time_delta.text if time_delta else None\n",
        "secao = secao.text if secao else None\n",
        "    \n",
        "print('time_delta = ', time_delta)\n",
        "print('seção = ', secao)\n"
      ],
      "execution_count": 38,
      "outputs": [
        {
          "output_type": "stream",
          "text": [
            "time_delta =  Há 37 minutos\n",
            "seção =  None\n"
          ],
          "name": "stdout"
        }
      ]
    },
    {
      "cell_type": "code",
      "metadata": {
        "colab": {
          "base_uri": "https://localhost:8080/",
          "height": 289
        },
        "id": "-HZX3K2H8yAq",
        "outputId": "be04c1b2-49aa-406e-b814-7d2f6f8b0452"
      },
      "source": [
        "\n",
        "dados = []\n",
        "\n",
        "for noticia in lista_noticias:\n",
        "    manchete = noticia.contents[1].text.replace('\"',\"\")\n",
        "    link = noticia.find('a').get('href')\n",
        "\n",
        "    descricao = noticia.contents[2].text\n",
        "    if not descricao:\n",
        "        descricao = noticia.find('div', attrs={'class': 'bstn-related'})\n",
        "        descricao = descricao.text if descricao else None\n",
        "\n",
        "    metadados = noticia.find('div', attrs={'class':'feed-post-metadata'})\n",
        "    time_delta = metadados.find('span', attrs={'class': 'feed-post-datetime'})\n",
        "    secao = metadados.find('span', attrs={'class': 'feed-post-metadata-section'})\n",
        "\n",
        "    time_delta = time_delta.text if time_delta else None\n",
        "    secao = secao.text if secao else None\n",
        "\n",
        "    dados.append((manchete, descricao, link, secao, hora_extracao, time_delta))\n",
        "\n",
        "df = pd.DataFrame(dados, columns=['manchete', 'descrição', 'link', 'seção', 'hora_extração', 'time_delta'])\n",
        "df.head()\n"
      ],
      "execution_count": 39,
      "outputs": [
        {
          "output_type": "execute_result",
          "data": {
            "text/html": [
              "<div>\n",
              "<style scoped>\n",
              "    .dataframe tbody tr th:only-of-type {\n",
              "        vertical-align: middle;\n",
              "    }\n",
              "\n",
              "    .dataframe tbody tr th {\n",
              "        vertical-align: top;\n",
              "    }\n",
              "\n",
              "    .dataframe thead th {\n",
              "        text-align: right;\n",
              "    }\n",
              "</style>\n",
              "<table border=\"1\" class=\"dataframe\">\n",
              "  <thead>\n",
              "    <tr style=\"text-align: right;\">\n",
              "      <th></th>\n",
              "      <th>manchete</th>\n",
              "      <th>descrição</th>\n",
              "      <th>link</th>\n",
              "      <th>seção</th>\n",
              "      <th>hora_extração</th>\n",
              "      <th>time_delta</th>\n",
              "    </tr>\n",
              "  </thead>\n",
              "  <tbody>\n",
              "    <tr>\n",
              "      <th>0</th>\n",
              "      <td>⚽ CHUTA AÍ</td>\n",
              "      <td>Você consegue adivinhar os maiores artilheiros...</td>\n",
              "      <td>https://interativos.globoesporte.globo.com/fut...</td>\n",
              "      <td>None</td>\n",
              "      <td>28-05-2021 21:46:03</td>\n",
              "      <td>Há 37 minutos</td>\n",
              "    </tr>\n",
              "    <tr>\n",
              "      <th>1</th>\n",
              "      <td>A VOZ DA TORCIDA</td>\n",
              "      <td>Influenciadores de 12 times vão dar opiniões n...</td>\n",
              "      <td>https://globoesporte.globo.com/futebol/noticia...</td>\n",
              "      <td>futebol</td>\n",
              "      <td>28-05-2021 21:46:03</td>\n",
              "      <td>Há 2 horas</td>\n",
              "    </tr>\n",
              "    <tr>\n",
              "      <th>2</th>\n",
              "      <td>PRIMEIRA RODADA DA SÉRIE B</td>\n",
              "      <td>None</td>\n",
              "      <td>https://globoesporte.globo.com/sp/campinas-e-r...</td>\n",
              "      <td>brasileirão série b</td>\n",
              "      <td>28-05-2021 21:46:03</td>\n",
              "      <td>Há 26 minutos</td>\n",
              "    </tr>\n",
              "    <tr>\n",
              "      <th>3</th>\n",
              "      <td>Com um jogador a mais, Brasil de Pelotas press...</td>\n",
              "      <td>Nada de gols no primeiro jogo da Série B</td>\n",
              "      <td>https://globoesporte.globo.com/rs/futebol/bras...</td>\n",
              "      <td>brasileirão série b</td>\n",
              "      <td>28-05-2021 21:46:03</td>\n",
              "      <td>Há 1 hora</td>\n",
              "    </tr>\n",
              "    <tr>\n",
              "      <th>4</th>\n",
              "      <td>Classificação às oitavas evidencia o domínio d...</td>\n",
              "      <td>Apenas quatro clubes conseguiram romper o duop...</td>\n",
              "      <td>https://globoesporte.globo.com/blogs/meia-enca...</td>\n",
              "      <td>Meia encarnada</td>\n",
              "      <td>28-05-2021 21:46:03</td>\n",
              "      <td>Há 1 hora</td>\n",
              "    </tr>\n",
              "  </tbody>\n",
              "</table>\n",
              "</div>"
            ],
            "text/plain": [
              "                                            manchete  ...     time_delta\n",
              "0                                         ⚽ CHUTA AÍ  ...  Há 37 minutos\n",
              "1                                   A VOZ DA TORCIDA  ...     Há 2 horas\n",
              "2                         PRIMEIRA RODADA DA SÉRIE B  ...  Há 26 minutos\n",
              "3  Com um jogador a mais, Brasil de Pelotas press...  ...      Há 1 hora\n",
              "4  Classificação às oitavas evidencia o domínio d...  ...      Há 1 hora\n",
              "\n",
              "[5 rows x 6 columns]"
            ]
          },
          "metadata": {
            "tags": []
          },
          "execution_count": 39
        }
      ]
    },
    {
      "cell_type": "markdown",
      "metadata": {
        "id": "A1L-UCYD9GcY"
      },
      "source": [
        "Criando uma classe com o conteúdo"
      ]
    },
    {
      "cell_type": "code",
      "metadata": {
        "id": "Lxn7qbWp9KFM"
      },
      "source": [
        "class ExtracaoPortal:\n",
        "    def __init__(self):\n",
        "        self.portal = None\n",
        "    \n",
        "    def extrair(self, portal):\n",
        "        texto_string = requests.get('https://globoesporte.globo.com/').text\n",
        "        hora_extracao = datetime.now().strftime(\"%d-%m-%Y %H:%M:%S\")\n",
        "\n",
        "        bsp_texto = BeautifulSoup(texto_string, 'html.parser')\n",
        "        lista_noticias = bsp_texto.find_all('div', attrs={'class':'feed-post-body'})\n",
        "        \n",
        "        dados = []\n",
        "\n",
        "        for noticia in lista_noticias:\n",
        "            manchete = noticia.contents[1].text.replace('\"',\"\")\n",
        "            link = noticia.find('a').get('href')\n",
        "\n",
        "            descricao = noticia.contents[2].text\n",
        "            if not descricao:\n",
        "                descricao = noticia.find('div', attrs={'class': 'bstn-related'})\n",
        "                descricao = descricao.text if descricao else None\n",
        "\n",
        "            metadados = noticia.find('div', attrs={'class':'feed-post-metadata'})\n",
        "            time_delta = metadados.find('span', attrs={'class': 'feed-post-datetime'})\n",
        "            secao = metadados.find('span', attrs={'class': 'feed-post-metadata-section'})\n",
        "\n",
        "            time_delta = time_delta.text if time_delta else None\n",
        "            secao = secao.text if secao else None\n",
        "\n",
        "            dados.append((manchete, descricao, link, secao, hora_extracao, time_delta))\n",
        "\n",
        "        df = pd.DataFrame(dados, columns=['manchete', 'descrição', 'link', 'seção', 'hora_extração', 'time_delta'])\n",
        "        return df\n",
        "        "
      ],
      "execution_count": 41,
      "outputs": []
    },
    {
      "cell_type": "markdown",
      "metadata": {
        "id": "d7jc8IqQ9QOj"
      },
      "source": [
        "Instanciando a classe"
      ]
    },
    {
      "cell_type": "code",
      "metadata": {
        "colab": {
          "base_uri": "https://localhost:8080/",
          "height": 289
        },
        "id": "VY-jQoQy9Px9",
        "outputId": "2dedbcdb-455b-4a92-b6ad-1c686d91bd1f"
      },
      "source": [
        "df = ExtracaoPortal().extrair(\"https://globoesporte.globo.com/\")\n",
        "df.head()"
      ],
      "execution_count": 42,
      "outputs": [
        {
          "output_type": "execute_result",
          "data": {
            "text/html": [
              "<div>\n",
              "<style scoped>\n",
              "    .dataframe tbody tr th:only-of-type {\n",
              "        vertical-align: middle;\n",
              "    }\n",
              "\n",
              "    .dataframe tbody tr th {\n",
              "        vertical-align: top;\n",
              "    }\n",
              "\n",
              "    .dataframe thead th {\n",
              "        text-align: right;\n",
              "    }\n",
              "</style>\n",
              "<table border=\"1\" class=\"dataframe\">\n",
              "  <thead>\n",
              "    <tr style=\"text-align: right;\">\n",
              "      <th></th>\n",
              "      <th>manchete</th>\n",
              "      <th>descrição</th>\n",
              "      <th>link</th>\n",
              "      <th>seção</th>\n",
              "      <th>hora_extração</th>\n",
              "      <th>time_delta</th>\n",
              "    </tr>\n",
              "  </thead>\n",
              "  <tbody>\n",
              "    <tr>\n",
              "      <th>0</th>\n",
              "      <td>⚽ CHUTA AÍ</td>\n",
              "      <td>Você consegue adivinhar os maiores artilheiros...</td>\n",
              "      <td>https://interativos.globoesporte.globo.com/fut...</td>\n",
              "      <td>None</td>\n",
              "      <td>28-05-2021 21:53:59</td>\n",
              "      <td>Há 45 minutos</td>\n",
              "    </tr>\n",
              "    <tr>\n",
              "      <th>1</th>\n",
              "      <td>A VOZ DA TORCIDA</td>\n",
              "      <td>Influenciadores de 12 times vão dar opiniões n...</td>\n",
              "      <td>https://globoesporte.globo.com/futebol/noticia...</td>\n",
              "      <td>futebol</td>\n",
              "      <td>28-05-2021 21:53:59</td>\n",
              "      <td>Há 2 horas</td>\n",
              "    </tr>\n",
              "    <tr>\n",
              "      <th>2</th>\n",
              "      <td>PRIMEIRA RODADA DA SÉRIE B</td>\n",
              "      <td>None</td>\n",
              "      <td>https://globoesporte.globo.com/sp/campinas-e-r...</td>\n",
              "      <td>brasileirão série b</td>\n",
              "      <td>28-05-2021 21:53:59</td>\n",
              "      <td>Há 34 minutos</td>\n",
              "    </tr>\n",
              "    <tr>\n",
              "      <th>3</th>\n",
              "      <td>Com um jogador a mais, Brasil de Pelotas press...</td>\n",
              "      <td>Nada de gols no primeiro jogo da Série B</td>\n",
              "      <td>https://globoesporte.globo.com/rs/futebol/bras...</td>\n",
              "      <td>brasileirão série b</td>\n",
              "      <td>28-05-2021 21:53:59</td>\n",
              "      <td>Há 1 hora</td>\n",
              "    </tr>\n",
              "    <tr>\n",
              "      <th>4</th>\n",
              "      <td>Classificação às oitavas evidencia o domínio d...</td>\n",
              "      <td>Apenas quatro clubes conseguiram romper o duop...</td>\n",
              "      <td>https://globoesporte.globo.com/blogs/meia-enca...</td>\n",
              "      <td>Meia encarnada</td>\n",
              "      <td>28-05-2021 21:53:59</td>\n",
              "      <td>Há 2 horas</td>\n",
              "    </tr>\n",
              "  </tbody>\n",
              "</table>\n",
              "</div>"
            ],
            "text/plain": [
              "                                            manchete  ...     time_delta\n",
              "0                                         ⚽ CHUTA AÍ  ...  Há 45 minutos\n",
              "1                                   A VOZ DA TORCIDA  ...     Há 2 horas\n",
              "2                         PRIMEIRA RODADA DA SÉRIE B  ...  Há 34 minutos\n",
              "3  Com um jogador a mais, Brasil de Pelotas press...  ...      Há 1 hora\n",
              "4  Classificação às oitavas evidencia o domínio d...  ...     Há 2 horas\n",
              "\n",
              "[5 rows x 6 columns]"
            ]
          },
          "metadata": {
            "tags": []
          },
          "execution_count": 42
        }
      ]
    }
  ]
}