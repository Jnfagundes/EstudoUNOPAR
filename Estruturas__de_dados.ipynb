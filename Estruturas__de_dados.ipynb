{
  "nbformat": 4,
  "nbformat_minor": 0,
  "metadata": {
    "colab": {
      "name": "Estruturas_ de_dados.ipynb",
      "provenance": [],
      "authorship_tag": "ABX9TyOrbRUqGb09SPXhd2R+WAsc",
      "include_colab_link": true
    },
    "kernelspec": {
      "name": "python3",
      "display_name": "Python 3"
    },
    "language_info": {
      "name": "python"
    }
  },
  "cells": [
    {
      "cell_type": "markdown",
      "metadata": {
        "id": "view-in-github",
        "colab_type": "text"
      },
      "source": [
        "<a href=\"https://colab.research.google.com/github/Jnfagundes/EstudoUNOPAR/blob/main/Estruturas__de_dados.ipynb\" target=\"_parent\"><img src=\"https://colab.research.google.com/assets/colab-badge.svg\" alt=\"Open In Colab\"/></a>"
      ]
    },
    {
      "cell_type": "code",
      "metadata": {
        "colab": {
          "base_uri": "https://localhost:8080/"
        },
        "id": "vVaCVkBqyqWX",
        "outputId": "013505f2-2eec-4e1d-8056-1537f9950700"
      },
      "source": [
        "texto = \"Aprendendo Python na disciplina de linguagem de programação \"\n",
        "\n",
        "print(f'Tamanho do texto = {len(texto)}')\n",
        "\n",
        "print(f'Python in texto = {\"Python\" in texto}')\n",
        "\n",
        "print(f'Quantidade de y no texto = {texto.count(\"y\")}')\n",
        "\n",
        "print(f'As 5 primeiras letras são = {texto[0:6]}')\n",
        "\n",
        "print(f'As 5 letras após as 5 cinco primeiras = {texto[6:12]} ')\n"
      ],
      "execution_count": 3,
      "outputs": [
        {
          "output_type": "stream",
          "text": [
            "Tamanho do texto = 60\n",
            "Python in texto = True\n",
            "Quantidade de y no texto = 1\n",
            "As 5 primeiras letras são = Aprend\n",
            "As 5 letras após as 5 cinco primeiras = endo P \n"
          ],
          "name": "stdout"
        }
      ]
    },
    {
      "cell_type": "code",
      "metadata": {
        "colab": {
          "base_uri": "https://localhost:8080/"
        },
        "id": "RtARPItV2O5T",
        "outputId": "0d742bf7-1956-49db-98dd-b79f8cd2e3ce"
      },
      "source": [
        "print(texto.upper())\n",
        "\n",
        "print(texto.replace(\"i\", 'XX'))\n"
      ],
      "execution_count": 4,
      "outputs": [
        {
          "output_type": "stream",
          "text": [
            "APRENDENDO PYTHON NA DISCIPLINA DE LINGUAGEM DE PROGRAMAÇÃO \n",
            "Aprendendo Python na dXXscXXplXXna de lXXnguagem de programação \n"
          ],
          "name": "stdout"
        }
      ]
    },
    {
      "cell_type": "code",
      "metadata": {
        "colab": {
          "base_uri": "https://localhost:8080/"
        },
        "id": "oLu3SWpE3h7l",
        "outputId": "d81a0b04-f665-44ac-c0b7-d31d4766e95d"
      },
      "source": [
        "print(f'texto = {texto}')\n",
        "print(f'Tamanho do texto = {len(texto)}\\n')\n",
        " \n",
        "# Iremos cortar o texto a cada espaço em branco encontrado. \n",
        "palavras = texto.split() # Aqui cortamos o texto e guardamos cada palavra em uma variável chamada palavras\n",
        "print(f'palavras = {palavras}')\n",
        "print(f'Tamanho de palavras = {len(palavras)}')\n",
        "\n"
      ],
      "execution_count": 5,
      "outputs": [
        {
          "output_type": "stream",
          "text": [
            "texto = Aprendendo Python na disciplina de linguagem de programação \n",
            "Tamanho do texto = 60\n",
            "\n",
            "palavras = ['Aprendendo', 'Python', 'na', 'disciplina', 'de', 'linguagem', 'de', 'programação']\n",
            "Tamanho de palavras = 8\n"
          ],
          "name": "stdout"
        }
      ]
    },
    {
      "cell_type": "code",
      "metadata": {
        "colab": {
          "base_uri": "https://localhost:8080/"
        },
        "id": "Ef5Y5kOqDXmH",
        "outputId": "fbce1f46-4b81-4e9d-ba03-b84aa88322ec"
      },
      "source": [
        "texto = \"\"\"Operadores de String\n",
        "Python oferece operadores para processar texto (ou seja, valores de string).\n",
        "Assim como os números, as strings podem ser comparadas usando operadores de comparação:\n",
        "==, !=, <, > e assim por diante.\n",
        "O operador ==, por exemplo, retorna True se as strings nos dois lados do operador tiverem o mesmo valor (Perkovic, p. 23, 2016).\n",
        "\"\"\"\n",
        "print(f\"Tamanho do texto = {len(texto)}\") # Aqui será mostrado o tamanho do texto\n",
        "texto = texto.lower() # Aqui estamos colocando todo o texto em maiusculo\n",
        "# Aqui usamos replace() que substitui as vírgulas por espaço.\n",
        "#Substitui o ponto por nada.\n",
        "#Substitui o parentêse aberto por nada.\n",
        "#Substitui o parentêse fechado por nada.\n",
        "#Substitui o saltar linha por espaço em branco.\n",
        "texto = texto.replace(\",\", \"\").replace(\".\", \"\").replace(\"(\", \"\").replace(\")\", \"\").replace(\"\\n\", \" \")\n",
        "\n",
        "lista_palavras = texto.split() #Aqui estamos criando uma lista com o texto cortado\n",
        "print(f\"Tamanho da lista de palavras = {len(lista_palavras)}\") # Aqui estamos imprimindo o tamanho da lista criada\n",
        "\n",
        "total = lista_palavras.count(\"string\") + lista_palavras.count(\"strings\") # Aqui estamos contando quantas palavras string e strings aparecem\n",
        "\n",
        "print(f\"Quantidade de vezes que string ou strings aparecem = {total}\") # Aqui mostramos a quantidade de palavras encontradas.\n"
      ],
      "execution_count": 6,
      "outputs": [
        {
          "output_type": "stream",
          "text": [
            "Tamanho do texto = 348\n",
            "Tamanho da lista de palavras = 58\n",
            "Quantidade de vezes que string ou strings aparecem = 4\n"
          ],
          "name": "stdout"
        }
      ]
    },
    {
      "cell_type": "code",
      "metadata": {
        "colab": {
          "base_uri": "https://localhost:8080/"
        },
        "id": "iZFGkgPaGzJA",
        "outputId": "c7518e4e-b424-4190-a470-f7382c14f3c9"
      },
      "source": [
        "vogais = ['a', 'e', 'i', 'o', 'u'] # também poderia ter sido criada usando aspas duplas\n",
        "\n",
        "for vogal in vogais: # Para vogal em vogais faça.\n",
        "    print (f'Posição = {vogais.index(vogal)}, valor = {vogal}')"
      ],
      "execution_count": 7,
      "outputs": [
        {
          "output_type": "stream",
          "text": [
            "Posição = 0, valor = a\n",
            "Posição = 1, valor = e\n",
            "Posição = 2, valor = i\n",
            "Posição = 3, valor = o\n",
            "Posição = 4, valor = u\n"
          ],
          "name": "stdout"
        }
      ]
    },
    {
      "cell_type": "code",
      "metadata": {
        "colab": {
          "base_uri": "https://localhost:8080/"
        },
        "id": "W67ypQ0uJcvA",
        "outputId": "03a21cf6-dcee-47e5-c8de-e4030f8d8e5d"
      },
      "source": [
        "# Mesmo resultado.\n",
        "\n",
        "vogais = [] # Criação da lista vazia.\n",
        "print(f\"Tipo do objeto vogais = {type(vogais)}\")\n",
        "# Aqui estamos colocado cada vogal dentro da lista. Essa vogal será colocada no final da lista\n",
        "vogais.append('a')\n",
        "vogais.append('e')\n",
        "vogais.append('i')\n",
        "vogais.append('o')\n",
        "vogais.append('u')\n",
        "\n",
        "for p, x in enumerate(vogais):\n",
        "    print(f\"Posição = {p}, valor = {x}\")"
      ],
      "execution_count": 8,
      "outputs": [
        {
          "output_type": "stream",
          "text": [
            "Tipo do objeto vogais = <class 'list'>\n",
            "Posição = 0, valor = a\n",
            "Posição = 1, valor = e\n",
            "Posição = 2, valor = i\n",
            "Posição = 3, valor = o\n",
            "Posição = 4, valor = u\n"
          ],
          "name": "stdout"
        }
      ]
    },
    {
      "cell_type": "code",
      "metadata": {
        "colab": {
          "base_uri": "https://localhost:8080/"
        },
        "id": "0pegS2MULqK3",
        "outputId": "698fb72c-f37b-4f95-f0e0-540517055366"
      },
      "source": [
        "frutas = [\"maça\", \"banana\", \"uva\", \"mamão\", \"maça\"]\n",
        "notas = [8.7, 5.2, 10, 3.5]\n",
        "\n",
        "print(\"maça\" in frutas) # True\n",
        "print(\"abacate\" in frutas) # False\n",
        "print(\"abacate\" not in frutas) # True\n",
        "print(min(frutas)) # banana\n",
        "print(max(notas)) # 10\n",
        "print(frutas.count(\"maça\")) # 2\n",
        "print(frutas + notas)\n",
        "print(2 * frutas)"
      ],
      "execution_count": 9,
      "outputs": [
        {
          "output_type": "stream",
          "text": [
            "True\n",
            "False\n",
            "True\n",
            "banana\n",
            "10\n",
            "2\n",
            "['maça', 'banana', 'uva', 'mamão', 'maça', 8.7, 5.2, 10, 3.5]\n",
            "['maça', 'banana', 'uva', 'mamão', 'maça', 'maça', 'banana', 'uva', 'mamão', 'maça']\n"
          ],
          "name": "stdout"
        }
      ]
    },
    {
      "cell_type": "code",
      "metadata": {
        "colab": {
          "base_uri": "https://localhost:8080/"
        },
        "id": "1Y_QXnf5NmM3",
        "outputId": "bfc2e6e8-9428-4400-dd39-55a31c8a013b"
      },
      "source": [
        "lista = ['Python', 30.61, \"Java\", 51 , ['a', 'b', 20], \"maça\"] #Criação da lista\n",
        "\n",
        "print(f\"Tamanho da lista = {len(lista)}\")\n",
        "\n",
        "for i, item in enumerate(lista):\n",
        "    print(f\"Posição = {i},\\t valor = {item} -----------------> tipo individual = {type(item)}\")\n",
        "\n",
        "print(\"\\nExemplos de slices:\\n\")\n",
        "\n",
        "print(\"lista[1] = \", lista[1])\n",
        "print(\"lista[0:2] = \", lista[0:2])\n",
        "print(\"lista[:2] = \", lista[:2])\n",
        "print(\"lista[3:5] = \", lista[3:5])\n",
        "print(\"lista[3:6] = \", lista[3:6])\n",
        "print(\"lista[3:] = \", lista[3:])\n",
        "print(\"lista[-2] = \", lista[-2])\n",
        "print(\"lista[-1] = \", lista[-1])\n",
        "print(\"lista[4][1] = \", lista[4][1])"
      ],
      "execution_count": 10,
      "outputs": [
        {
          "output_type": "stream",
          "text": [
            "Tamanho da lista = 6\n",
            "Posição = 0,\t valor = Python -----------------> tipo individual = <class 'str'>\n",
            "Posição = 1,\t valor = 30.61 -----------------> tipo individual = <class 'float'>\n",
            "Posição = 2,\t valor = Java -----------------> tipo individual = <class 'str'>\n",
            "Posição = 3,\t valor = 51 -----------------> tipo individual = <class 'int'>\n",
            "Posição = 4,\t valor = ['a', 'b', 20] -----------------> tipo individual = <class 'list'>\n",
            "Posição = 5,\t valor = maça -----------------> tipo individual = <class 'str'>\n",
            "\n",
            "Exemplos de slices:\n",
            "\n",
            "lista[1] =  30.61\n",
            "lista[0:2] =  ['Python', 30.61]\n",
            "lista[:2] =  ['Python', 30.61]\n",
            "lista[3:5] =  [51, ['a', 'b', 20]]\n",
            "lista[3:6] =  [51, ['a', 'b', 20], 'maça']\n",
            "lista[3:] =  [51, ['a', 'b', 20], 'maça']\n",
            "lista[-2] =  ['a', 'b', 20]\n",
            "lista[-1] =  maça\n",
            "lista[4][1] =  b\n"
          ],
          "name": "stdout"
        }
      ]
    },
    {
      "cell_type": "code",
      "metadata": {
        "colab": {
          "base_uri": "https://localhost:8080/"
        },
        "id": "D7xmmzIxPElk",
        "outputId": "db797a8a-68ef-43fa-b11c-90f9ef5c0a15"
      },
      "source": [
        "linguagens = [\"Python\", \"Java\", \"JavaScript\", \"C\", \"C#\", \"C++\", \"Swift\", \"Go\", \"Kotlin\"]\n",
        "#linguagens = '''Python Java JavaScript C C# C++ Swift Go Kotlin'''.split() # Essa sintaxe produz o mesmo resultado que a linha 1\n",
        "\n",
        "print(\"Antes da listcomp = \", linguagens)\n",
        "\n",
        "linguagens = [item.lower() for item in linguagens] \n",
        "\n",
        "print(\"\\nDepois da listcomp = \", linguagens)"
      ],
      "execution_count": 11,
      "outputs": [
        {
          "output_type": "stream",
          "text": [
            "Antes da listcomp =  ['Python', 'Java', 'JavaScript', 'C', 'C#', 'C++', 'Swift', 'Go', 'Kotlin']\n",
            "\n",
            "Depois da listcomp =  ['python', 'java', 'javascript', 'c', 'c#', 'c++', 'swift', 'go', 'kotlin']\n"
          ],
          "name": "stdout"
        }
      ]
    },
    {
      "cell_type": "code",
      "metadata": {
        "colab": {
          "base_uri": "https://localhost:8080/"
        },
        "id": "Wg7iSxyaQzj4",
        "outputId": "c041c745-d8e6-4a59-a435-fe0ae1e79635"
      },
      "source": [
        "linguagens = '''Python Java JavaScript C C# C++ Swift Go Kotlin'''.split()\n",
        "print(\"Antes da listcomp = \", linguagens)\n",
        "\n",
        "for i, item in enumerate(linguagens):\n",
        "    linguagens[i] = item.lower()\n",
        "    \n",
        "print(\"\\nDepois da listcomp = \", linguagens)"
      ],
      "execution_count": 12,
      "outputs": [
        {
          "output_type": "stream",
          "text": [
            "Antes da listcomp =  ['Python', 'Java', 'JavaScript', 'C', 'C#', 'C++', 'Swift', 'Go', 'Kotlin']\n",
            "\n",
            "Depois da listcomp =  ['python', 'java', 'javascript', 'c', 'c#', 'c++', 'swift', 'go', 'kotlin']\n"
          ],
          "name": "stdout"
        }
      ]
    },
    {
      "cell_type": "code",
      "metadata": {
        "colab": {
          "base_uri": "https://localhost:8080/"
        },
        "id": "hk3Fo68FQ558",
        "outputId": "5818dfd6-f313-41f7-da7e-3f715239a97d"
      },
      "source": [
        "#Construir uma lista que contém somente as linguagens que possuem \"java\"  no texto.\n",
        "linguagens = '''Python Java JavaScript C C# C++ Swift Go Kotlin'''.split()\n",
        "\n",
        "linguagens_java = [item for item in linguagens if \"Java\" in item] #AAqui a listcomp é construida com a estrutura if\n",
        "\n",
        "print(linguagens_java)"
      ],
      "execution_count": 13,
      "outputs": [
        {
          "output_type": "stream",
          "text": [
            "['Java', 'JavaScript']\n"
          ],
          "name": "stdout"
        }
      ]
    },
    {
      "cell_type": "code",
      "metadata": {
        "colab": {
          "base_uri": "https://localhost:8080/"
        },
        "id": "tfWmpUgkT_KC",
        "outputId": "090e25b7-8f1f-423b-f46c-97e6ab681379"
      },
      "source": [
        "linguagens = '''Python Java JavaScript C C# C++ Swift Go Kotlin'''.split()\n",
        "linguagens_java = []\n",
        "\n",
        "for item in linguagens:\n",
        "    if \"Java\" in item:\n",
        "        linguagens_java.append(item)\n",
        "\n",
        "print(linguagens_java)"
      ],
      "execution_count": 14,
      "outputs": [
        {
          "output_type": "stream",
          "text": [
            "['Java', 'JavaScript']\n"
          ],
          "name": "stdout"
        }
      ]
    },
    {
      "cell_type": "code",
      "metadata": {
        "colab": {
          "base_uri": "https://localhost:8080/"
        },
        "id": "2yR_-4KeUQzL",
        "outputId": "f68d5f35-b987-4e71-9484-fecb8f87e41e"
      },
      "source": [
        "# Exemplo 1\n",
        "print(\"Exemplo 1\")\n",
        "linguagens = '''Python Java JavaScript C C# C++ Swift Go Kotlin'''.split() #Criação da lista\n",
        "\n",
        "nova_lista = map(lambda x: x.lower(), linguagens) \n",
        "print(f\"A nova lista é = {nova_lista}\\n\") # Aqui não conseguiremos ver a lista pois map retorna um objeto iterável.\n",
        "\n",
        "nova_lista = list(nova_lista) # Aqui convertemos o map para list e dessa forma vemos os objetos da lista\n",
        "print(f\"Agora sim, a nova lista é = {nova_lista}\")\n",
        "\n",
        "\n",
        "# Exemplo 2\n",
        "print(\"\\n\\nExemplo 2\")\n",
        "numeros = [0, 1, 2, 3, 4, 5]\n",
        "\n",
        "quadrados = list(map(lambda x: x*x, numeros)) # Aqui a conversão é feita em uma única linha.\n",
        "print(f\"Lista com o número elevado a ele mesmo = {quadrados}\\n\")\n"
      ],
      "execution_count": 15,
      "outputs": [
        {
          "output_type": "stream",
          "text": [
            "Exemplo 1\n",
            "A nova lista é = <map object at 0x7f314dc15a50>\n",
            "\n",
            "Agora sim, a nova lista é = ['python', 'java', 'javascript', 'c', 'c#', 'c++', 'swift', 'go', 'kotlin']\n",
            "\n",
            "\n",
            "Exemplo 2\n",
            "Lista com o número elevado a ele mesmo = [0, 1, 4, 9, 16, 25]\n",
            "\n"
          ],
          "name": "stdout"
        }
      ]
    },
    {
      "cell_type": "code",
      "metadata": {
        "colab": {
          "base_uri": "https://localhost:8080/"
        },
        "id": "Tni844BqjuyQ",
        "outputId": "bbae258a-a3a6-450b-e186-1e6643568446"
      },
      "source": [
        "numeros  = list(range(0, 21)) # A função range() cria um objeto iterável e o transformamos em uma lista com o construtor list()\n",
        "\n",
        "numeros_pares = list(filter(lambda x: x % 2 == 0, numeros)) #Essa função retorna somente os números pares.\n",
        "\n",
        "print(numeros_pares)\n"
      ],
      "execution_count": 16,
      "outputs": [
        {
          "output_type": "stream",
          "text": [
            "[0, 2, 4, 6, 8, 10, 12, 14, 16, 18, 20]\n"
          ],
          "name": "stdout"
        }
      ]
    },
    {
      "cell_type": "code",
      "metadata": {
        "colab": {
          "base_uri": "https://localhost:8080/"
        },
        "id": "9HkvmqK_mEkB",
        "outputId": "f1cc2293-34fc-4cc4-b36c-51e9a6e16657"
      },
      "source": [
        "vogais = ('a', 'e', 'i', 'o', 'u') # Aqui temos a criação de uma tupla\n",
        "print(f\"Tipo do objeto vogais = {type(vogais)}\")\n",
        "\n",
        "for p, x in enumerate(vogais):\n",
        "    print(f\"Posição = {p}, valor = {x}\")"
      ],
      "execution_count": 17,
      "outputs": [
        {
          "output_type": "stream",
          "text": [
            "Tipo do objeto vogais = <class 'tuple'>\n",
            "Posição = 0, valor = a\n",
            "Posição = 1, valor = e\n",
            "Posição = 2, valor = i\n",
            "Posição = 3, valor = o\n",
            "Posição = 4, valor = u\n"
          ],
          "name": "stdout"
        }
      ]
    },
    {
      "cell_type": "code",
      "metadata": {
        "colab": {
          "base_uri": "https://localhost:8080/"
        },
        "id": "_Y10VlAbviE7",
        "outputId": "aa4624f3-e5fe-4852-fa15-2393ed6b54d1"
      },
      "source": [
        "vogais_1 = {'aeiou'} # sem uso do construtor\n",
        "print(type(vogais_1), vogais_1)\n",
        "\n",
        "vogais_2 = set('aeiouaaaaaa') # construtor com string sem repetições.\n",
        "print(type(vogais_2), vogais_2)\n",
        "\n",
        "vogais_3 = set(['a', 'e', 'i', 'o', 'u']) # construtor com lista\n",
        "print(type(vogais_3), vogais_3)\n",
        "\n",
        "vogais_4 = set(('a', 'e', 'i', 'o', 'u')) # construtor com tupla\n",
        "print(type(vogais_4), vogais_4)\n",
        "\n",
        "print(set('banana')) #Aqui temos a eliminação de repetições."
      ],
      "execution_count": 18,
      "outputs": [
        {
          "output_type": "stream",
          "text": [
            "<class 'set'> {'aeiou'}\n",
            "<class 'set'> {'a', 'o', 'i', 'e', 'u'}\n",
            "<class 'set'> {'a', 'o', 'i', 'e', 'u'}\n",
            "<class 'set'> {'a', 'o', 'i', 'e', 'u'}\n",
            "{'b', 'a', 'n'}\n"
          ],
          "name": "stdout"
        }
      ]
    },
    {
      "cell_type": "code",
      "metadata": {
        "id": "P05q0s9twSsg"
      },
      "source": [
        ""
      ],
      "execution_count": null,
      "outputs": []
    }
  ]
}