{
  "nbformat": 4,
  "nbformat_minor": 0,
  "metadata": {
    "colab": {
      "name": "EstudoBasico.ipynb",
      "provenance": [],
      "authorship_tag": "ABX9TyPTmt3th+7cLM/sttoKguBp",
      "include_colab_link": true
    },
    "kernelspec": {
      "name": "python3",
      "display_name": "Python 3"
    },
    "language_info": {
      "name": "python"
    }
  },
  "cells": [
    {
      "cell_type": "markdown",
      "metadata": {
        "id": "view-in-github",
        "colab_type": "text"
      },
      "source": [
        "<a href=\"https://colab.research.google.com/github/Jnfagundes/EstudoUNOPAR/blob/main/EstudoBasico.ipynb\" target=\"_parent\"><img src=\"https://colab.research.google.com/assets/colab-badge.svg\" alt=\"Open In Colab\"/></a>"
      ]
    },
    {
      "cell_type": "code",
      "metadata": {
        "colab": {
          "base_uri": "https://localhost:8080/"
        },
        "id": "0QsBm1xTKr12",
        "outputId": "2aee4b72-b842-402a-f823-75b09752c5cb"
      },
      "source": [
        "print('Estudo de Python')\n",
        "def tabuada(op, a, b): #Criação da função\n",
        "    if op == 1:\n",
        "      res = a + b\n",
        "    elif op == 2:\n",
        "      res = a - b\n",
        "    elif op == 3:\n",
        "      res = a * b\n",
        "    elif op == 4:\n",
        "      res = a // b\n",
        "    else:\n",
        "      print('Escolha uma opção válida.')\n",
        "\n",
        "    return res #Retorno da função\n",
        "\n",
        "a = int(input('Escolha um valor: '))\n",
        "b = int(input('Escolha um segundo valor: '))\n",
        "print('Escolha uma opção: ')\n",
        "print('''[    soma -> 1,\n",
        "              subtração -> 2,\n",
        "              multiplicação -> 3,\n",
        "              divisão -> 4]''')\n",
        "op = int(input('O que deseja fazer? '))\n",
        "if op == 1:\n",
        "  operacao = '+'\n",
        "elif op == 2:\n",
        "  operacao = '-'\n",
        "elif op == 3:\n",
        "  operacao = 'X'\n",
        "elif op == 4:\n",
        "  operacao = '/' \n",
        "else:\n",
        "  print('nulo')            \n",
        "resultado = tabuada(op, a, b)\n",
        "print(f'{a} {operacao} {b} = {resultado}')\n",
        "\n"
      ],
      "execution_count": null,
      "outputs": [
        {
          "output_type": "stream",
          "text": [
            "Estudo de Python\n",
            "Escolha um valor: 1995\n",
            "Escolha um segundo valor: 12\n",
            "Escolha uma opção: \n",
            "[    soma -> 1,\n",
            "              subtração -> 2,\n",
            "              multiplicação -> 3,\n",
            "              divisão -> 4]\n",
            "O que deseja fazer? 3\n",
            "1995 X 12 = 23940\n"
          ],
          "name": "stdout"
        }
      ]
    },
    {
      "cell_type": "code",
      "metadata": {
        "colab": {
          "base_uri": "https://localhost:8080/"
        },
        "id": "7dFBL65_H_Um",
        "outputId": "f9d14faf-e778-47fa-c9ad-a2e09940aeec"
      },
      "source": [
        "print('Estrutura de uma tabuada')\n",
        "def tabuada(op, a, b): #Criação da função\n",
        "    if op == 1:\n",
        "      res = a + b\n",
        "    elif op == 2:\n",
        "      res = a - b\n",
        "    elif op == 3:\n",
        "      res = a * b\n",
        "    elif op == 4:\n",
        "      res = a / b\n",
        "\n",
        "    return res #Retorno da função\n",
        "\n",
        "a = int(input('Escolha um valor: '))\n",
        "print('''Escolha a operação:,\n",
        "            1 -> Soma,\n",
        "            2 -> Subtração,\n",
        "            3 -> Multiplicação,\n",
        "            4 -> Divisão''')\n",
        "op = int(input('Qual operação você deseja fazer? '))\n",
        "#Aqui, estou fazendo com que o símbolo da operação apareça no print\n",
        "if op == 1:\n",
        "  operacao = '+'\n",
        "elif op == 2:\n",
        "  operacao = '-'\n",
        "elif op == 3:\n",
        "  operacao = 'X'\n",
        "elif op == 4:\n",
        "  operacao = '/' \n",
        "cont = 1\n",
        "while cont < 11: #Wnquanto cont for menor que 11, faça\n",
        "  resultado = tabuada(op, a, cont) #Aqui estamos chamando a função\n",
        "  print(f'{a} {operacao} {cont} = {resultado}')\n",
        "  cont = cont + 1\n",
        "\n",
        "\n"
      ],
      "execution_count": 1,
      "outputs": [
        {
          "output_type": "stream",
          "text": [
            "Estrutura de uma tabuada\n",
            "Escolha um valor: 5\n",
            "Escolha a operação:,\n",
            "            1 -> Soma,\n",
            "            2 -> Subtração,\n",
            "            3 -> Multiplicação,\n",
            "            4 -> Divisão\n",
            "Qual operação você deseja fazer? 3\n",
            "5 X 1 = 5\n",
            "5 X 2 = 10\n",
            "5 X 3 = 15\n",
            "5 X 4 = 20\n",
            "5 X 5 = 25\n",
            "5 X 6 = 30\n",
            "5 X 7 = 35\n",
            "5 X 8 = 40\n",
            "5 X 9 = 45\n",
            "5 X 10 = 50\n"
          ],
          "name": "stdout"
        }
      ]
    }
  ]
}