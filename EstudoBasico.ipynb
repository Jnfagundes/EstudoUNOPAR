{
  "nbformat": 4,
  "nbformat_minor": 0,
  "metadata": {
    "colab": {
      "name": "EstudoBasico.ipynb",
      "provenance": [],
      "authorship_tag": "ABX9TyOM69d3HAlbKYIKSp5jO3b4",
      "include_colab_link": true
    },
    "kernelspec": {
      "name": "python3",
      "display_name": "Python 3"
    },
    "language_info": {
      "name": "python"
    }
  },
  "cells": [
    {
      "cell_type": "markdown",
      "metadata": {
        "id": "view-in-github",
        "colab_type": "text"
      },
      "source": [
        "<a href=\"https://colab.research.google.com/github/Jnfagundes/EstudoUNOPAR/blob/main/EstudoBasico.ipynb\" target=\"_parent\"><img src=\"https://colab.research.google.com/assets/colab-badge.svg\" alt=\"Open In Colab\"/></a>"
      ]
    },
    {
      "cell_type": "code",
      "metadata": {
        "colab": {
          "base_uri": "https://localhost:8080/"
        },
        "id": "0QsBm1xTKr12",
        "outputId": "2aee4b72-b842-402a-f823-75b09752c5cb"
      },
      "source": [
        "print('Estudo de Python')\n",
        "def tabuada(op, a, b): #Criação da função\n",
        "    if op == 1:\n",
        "      res = a + b\n",
        "    elif op == 2:\n",
        "      res = a - b\n",
        "    elif op == 3:\n",
        "      res = a * b\n",
        "    elif op == 4:\n",
        "      res = a // b\n",
        "    else:\n",
        "      print('Escolha uma opção válida.')\n",
        "\n",
        "    return res #Retorno da função\n",
        "\n",
        "a = int(input('Escolha um valor: '))\n",
        "b = int(input('Escolha um segundo valor: '))\n",
        "print('Escolha uma opção: ')\n",
        "print('''[    soma -> 1,\n",
        "              subtração -> 2,\n",
        "              multiplicação -> 3,\n",
        "              divisão -> 4]''')\n",
        "op = int(input('O que deseja fazer? '))\n",
        "if op == 1:\n",
        "  operacao = '+'\n",
        "elif op == 2:\n",
        "  operacao = '-'\n",
        "elif op == 3:\n",
        "  operacao = 'X'\n",
        "elif op == 4:\n",
        "  operacao = '/' \n",
        "else:\n",
        "  print('nulo')            \n",
        "resultado = tabuada(op, a, b)\n",
        "print(f'{a} {operacao} {b} = {resultado}')\n",
        "\n"
      ],
      "execution_count": null,
      "outputs": [
        {
          "output_type": "stream",
          "text": [
            "Estudo de Python\n",
            "Escolha um valor: 1995\n",
            "Escolha um segundo valor: 12\n",
            "Escolha uma opção: \n",
            "[    soma -> 1,\n",
            "              subtração -> 2,\n",
            "              multiplicação -> 3,\n",
            "              divisão -> 4]\n",
            "O que deseja fazer? 3\n",
            "1995 X 12 = 23940\n"
          ],
          "name": "stdout"
        }
      ]
    },
    {
      "cell_type": "code",
      "metadata": {
        "colab": {
          "base_uri": "https://localhost:8080/"
        },
        "id": "7dFBL65_H_Um",
        "outputId": "c6eb5f9f-4588-46f9-8635-59af61d83bb0"
      },
      "source": [
        "print('Estrutura de uma tabuada')\n",
        "def tabuada(op, a, b): #Criação da função\n",
        "    if op == 1:\n",
        "      res = a + b\n",
        "    elif op == 2:\n",
        "      res = a - b\n",
        "    elif op == 3:\n",
        "      res = a * b\n",
        "    elif op == 4:\n",
        "      res = a / b\n",
        "    else:\n",
        "      print('Escolha uma opção válida.')\n",
        "\n",
        "    return res #Retorno da função\n",
        "\n",
        "a = int(input('Escolha um valor: '))\n",
        "print('''Escolha a operação:,\n",
        "            1 -> Soma,\n",
        "            2 -> Subtração,\n",
        "            3 -> Multiplicação,\n",
        "            4 -> Divisão''')\n",
        "op = int(input('Qual operação você deseja fazer? '))\n",
        "if op == 1:\n",
        "  operacao = '+'\n",
        "elif op == 2:\n",
        "  operacao = '-'\n",
        "elif op == 3:\n",
        "  operacao = 'X'\n",
        "elif op == 4:\n",
        "  operacao = '/' \n",
        "cont = 1\n",
        "while cont < 11:\n",
        "  resultado = tabuada(op, a, cont)\n",
        "  print(f'{a} {operacao} {cont} = {resultado}')\n",
        "  cont = cont + 1\n",
        "\n",
        "\n"
      ],
      "execution_count": 27,
      "outputs": [
        {
          "output_type": "stream",
          "text": [
            "Estrutura de uma tabuada\n",
            "Escolha um valor: 20\n",
            "Escolha a operação:,\n",
            "            1 -> Soma,\n",
            "            2 -> Subtração,\n",
            "            3 -> Multiplicação,\n",
            "            4 -> Divisão\n",
            "Qual operação você deseja fazer? 4\n",
            "20 / 1 = 20.0\n",
            "20 / 2 = 10.0\n",
            "20 / 3 = 6.666666666666667\n",
            "20 / 4 = 5.0\n",
            "20 / 5 = 4.0\n",
            "20 / 6 = 3.3333333333333335\n",
            "20 / 7 = 2.857142857142857\n",
            "20 / 8 = 2.5\n",
            "20 / 9 = 2.2222222222222223\n",
            "20 / 10 = 2.0\n"
          ],
          "name": "stdout"
        }
      ]
    }
  ]
}