{
  "nbformat": 4,
  "nbformat_minor": 0,
  "metadata": {
    "colab": {
      "name": "Ordenação.ipynb",
      "provenance": [],
      "collapsed_sections": [],
      "authorship_tag": "ABX9TyMTkIsMQaLubgtMhoZeIIEo",
      "include_colab_link": true
    },
    "kernelspec": {
      "name": "python3",
      "display_name": "Python 3"
    },
    "language_info": {
      "name": "python"
    }
  },
  "cells": [
    {
      "cell_type": "markdown",
      "metadata": {
        "id": "view-in-github",
        "colab_type": "text"
      },
      "source": [
        "<a href=\"https://colab.research.google.com/github/Jnfagundes/EstudoUNOPAR/blob/main/Ordena%C3%A7%C3%A3o.ipynb\" target=\"_parent\"><img src=\"https://colab.research.google.com/assets/colab-badge.svg\" alt=\"Open In Colab\"/></a>"
      ]
    },
    {
      "cell_type": "code",
      "metadata": {
        "colab": {
          "base_uri": "https://localhost:8080/"
        },
        "id": "hO8AMKBa37XU",
        "outputId": "8f0fd2d7-ea20-42d0-e0ba-ced2685c6e4c"
      },
      "source": [
        "lista = [10, 4, 1, 15, -3] # Criação da lista em desordem\n",
        "\n",
        "lista_ordenada1 = sorted(lista) # Primeira forma de ordenar a lista\n",
        "lista_ordenada2 = lista.sort() # Segunda forma de ordenar a lista\n",
        "\n",
        "print('lista = ', lista, '\\n') # Impressão da lista sem ordenação\n",
        "# Impressão da lista ordenada\n",
        "print('lista_ordenada1 = ', lista_ordenada1) \n",
        "print('lista_ordenada2 = ', lista_ordenada2)\n",
        "print('lista = ', lista)\n"
      ],
      "execution_count": 1,
      "outputs": [
        {
          "output_type": "stream",
          "text": [
            "lista =  [-3, 1, 4, 10, 15] \n",
            "\n",
            "lista_ordenada1 =  [-3, 1, 4, 10, 15]\n",
            "lista_ordenada2 =  None\n",
            "lista =  [-3, 1, 4, 10, 15]\n"
          ],
          "name": "stdout"
        }
      ]
    },
    {
      "cell_type": "code",
      "metadata": {
        "colab": {
          "base_uri": "https://localhost:8080/"
        },
        "id": "gMTgo9Bw4keE",
        "outputId": "5f5abf97-03dd-49d0-d04f-cdcc1596de5e"
      },
      "source": [
        "lista = [7, 4]\n",
        "\n",
        "if lista[0] > lista[1]:\n",
        "    aux = lista[1]\n",
        "    lista[1] = lista[0]\n",
        "    lista[0] = aux\n",
        "\n",
        "print(lista)\n"
      ],
      "execution_count": 2,
      "outputs": [
        {
          "output_type": "stream",
          "text": [
            "[4, 7]\n"
          ],
          "name": "stdout"
        }
      ]
    },
    {
      "cell_type": "code",
      "metadata": {
        "colab": {
          "base_uri": "https://localhost:8080/"
        },
        "id": "NirrwU0R86Mo",
        "outputId": "eb05228f-3aa9-405a-e145-eb1d738c3c7d"
      },
      "source": [
        "lista = [5, -1]\n",
        "\n",
        "if lista[0] > lista[1]:\n",
        "    lista[0], lista[1] = lista[1], lista[0]\n",
        "\n",
        "print(lista)\n"
      ],
      "execution_count": 3,
      "outputs": [
        {
          "output_type": "stream",
          "text": [
            "[-1, 5]\n"
          ],
          "name": "stdout"
        }
      ]
    },
    {
      "cell_type": "markdown",
      "metadata": {
        "id": "84faNGyPEN34"
      },
      "source": [
        "Ordenação Selection sort\n"
      ]
    },
    {
      "cell_type": "code",
      "metadata": {
        "colab": {
          "base_uri": "https://localhost:8080/"
        },
        "id": "QMr5qJqF9w1G",
        "outputId": "d481b8cd-33d3-419f-eb49-126b9831d7c9"
      },
      "source": [
        "def executar_selection_sort(lista):\n",
        "    n = len(lista) # Aqui estamos guardando o tamanho da lista\n",
        "    \n",
        "    # Usamos a variável i para controlar a posição e a variável j para iterar\n",
        "    for i in range(0, n): # Para i dentro de range\n",
        "        index_menor = i # A variável recebe o menor valor\n",
        "        for j in range(i+1, n): # Para j dentro de range(i recebe um incremento)\n",
        "            if lista[j] < lista[index_menor]: # Se a posição j for menor que a posição index_menor faça\n",
        "                index_menor = j # Guarda a posição para a troca de valores.\n",
        "        lista[i], lista[index_menor] = lista[index_menor], lista[i]\n",
        "    return lista\n",
        "\n",
        "\n",
        "lista = [10, 9, 5, 8, 11, -1, 3]\n",
        "executar_selection_sort(lista)\n"
      ],
      "execution_count": 4,
      "outputs": [
        {
          "output_type": "execute_result",
          "data": {
            "text/plain": [
              "[-1, 3, 5, 8, 9, 10, 11]"
            ]
          },
          "metadata": {
            "tags": []
          },
          "execution_count": 4
        }
      ]
    },
    {
      "cell_type": "code",
      "metadata": {
        "colab": {
          "base_uri": "https://localhost:8080/"
        },
        "id": "S6zdMPzwCn5h",
        "outputId": "8243d078-0d92-4555-bb59-e447dd663dc2"
      },
      "source": [
        "def executar_selection_sort_2(lista):\n",
        "    lista_ordenada = []\n",
        "    while lista:\n",
        "        minimo = min(lista)\n",
        "        lista_ordenada.append(minimo)\n",
        "        lista.remove(minimo)\n",
        "    return lista_ordenada\n",
        "\n",
        "\n",
        "lista = [10, 9, 5, 8, 11, -1, 3]\n",
        "executar_selection_sort_2(lista)\n"
      ],
      "execution_count": 5,
      "outputs": [
        {
          "output_type": "execute_result",
          "data": {
            "text/plain": [
              "[-1, 3, 5, 8, 9, 10, 11]"
            ]
          },
          "metadata": {
            "tags": []
          },
          "execution_count": 5
        }
      ]
    },
    {
      "cell_type": "markdown",
      "metadata": {
        "id": "NYPdAHZKJhXU"
      },
      "source": [
        "Ordenação BUBBLE SORT "
      ]
    },
    {
      "cell_type": "code",
      "metadata": {
        "colab": {
          "base_uri": "https://localhost:8080/"
        },
        "id": "SoUIf9xaIYt3",
        "outputId": "b7a42759-0c4c-4e97-bccc-f041fd54a280"
      },
      "source": [
        "def executar_bubble_sort(lista):\n",
        "    n = len(lista)\n",
        "    for i in range(n-1): # A variável i é usada para controlar a repetição de todo o processo \n",
        "        for j in range(n-1): # A variável j é usada para fazer as comparações entre os elementos.\n",
        "            if lista[j] > lista[j + 1]:\n",
        "                lista[j], lista[j + 1] = lista[j + 1], lista[j]\n",
        "    return lista\n",
        "\n",
        "lista = [10, 9, 5, 8, 11, -1, 3]\n",
        "executar_bubble_sort(lista)\n"
      ],
      "execution_count": 6,
      "outputs": [
        {
          "output_type": "execute_result",
          "data": {
            "text/plain": [
              "[-1, 3, 5, 8, 9, 10, 11]"
            ]
          },
          "metadata": {
            "tags": []
          },
          "execution_count": 6
        }
      ]
    },
    {
      "cell_type": "markdown",
      "metadata": {
        "id": "WN6q6D2IYJT9"
      },
      "source": [
        "Ordenação Insertion sort"
      ]
    },
    {
      "cell_type": "code",
      "metadata": {
        "colab": {
          "base_uri": "https://localhost:8080/"
        },
        "id": "HFRwryRpLMYz",
        "outputId": "f7eaa2ea-ce71-4fb0-e42f-c2f1ba08b186"
      },
      "source": [
        "def executar_insertion_sort(lista):\n",
        "    n = len(lista)\n",
        "    for i in range(1, n): # A variável i é usada para guardar a posição de elemento que queremos inserir\n",
        "        valor_inserir = lista[i] \n",
        "        j = i - 1 # A variável j é usada para encontrar a posição correta a ser inserida.\n",
        "        \n",
        "        while j >= 0 and lista[j] > valor_inserir:\n",
        "            lista[j + 1] = lista[j]\n",
        "            j -= 1\n",
        "        lista[j + 1] = valor_inserir\n",
        "    \n",
        "    return lista\n",
        "\n",
        "\n",
        "lista = [10, 9, 5, 8, 11, -1, 3]\n",
        "executar_insertion_sort(lista)\n"
      ],
      "execution_count": 7,
      "outputs": [
        {
          "output_type": "execute_result",
          "data": {
            "text/plain": [
              "[-1, 3, 5, 8, 9, 10, 11]"
            ]
          },
          "metadata": {
            "tags": []
          },
          "execution_count": 7
        }
      ]
    },
    {
      "cell_type": "markdown",
      "metadata": {
        "id": "jS4Az8NskOkp"
      },
      "source": [
        "Ordenação Merge sort "
      ]
    },
    {
      "cell_type": "code",
      "metadata": {
        "id": "rx-jHydvivLx"
      },
      "source": [
        "# Função para dividir as listas\n",
        "def executar_merge_sort(lista): # Recebe como parâmetro a lista a ser ordenada\n",
        "    if len(lista) <= 1: # Se o tamanho da lista for menor que 1\n",
        "      return lista # Retorne a lista\n",
        "    else: # Caso não seja\n",
        "        meio = len(lista) // 2 # Aqui a o tamanho da lista será dividido por dois\n",
        "        # aqui estamos aplicando a recursividade\n",
        "        esquerda = executar_merge_sort(lista[:meio]) # Aqui chamamos a função executar_merge_sort começando pelo meio até seu final\n",
        "        direita = executar_merge_sort(lista[meio:]) # Aqui chamamos a função executar_merge_sort começando pelo inicio e indo até o meio\n",
        "        return executar_merge(esquerda, direita) # Aqui será chamada a função executar_merge() passando como parâmetro as variáveis esquerda e direita\n",
        "\n",
        "# Função para juntar as listas    \n",
        "def executar_merge(esquerda, direita): # Aqui a função recebe como parâmetro as listas acima criada\n",
        "    sub_lista_ordenada = [] # Aqui estamos criando uma lista vazia\n",
        "    topo_esquerda, topo_direita = 0, 0 # Estamos declarando as variáveis.\n",
        "    # Enquanto topo_esquerdo for menor que o tamanho da lista esquerda\n",
        "    # E topo_direita for menor que tamanho da lista direita\n",
        "    while topo_esquerda < len(esquerda) and topo_direita < len(direita):\n",
        "        if esquerda[topo_esquerda] <= direita[topo_direita]: # se a posição topo_esquerda na lista esquerda for  menor ou igual a posição topo_direita na lista direita\n",
        "            sub_lista_ordenada.append(esquerda[topo_esquerda]) # Será adicionado na sub_lista_ordenada o valor que está na posição topo_esquerda da lista esquerda\n",
        "            topo_esquerda += 1 # Aqui a posição topo_esquerda recebe o adicional 1, ou seja, passa para a proxima posição\n",
        "        else:\n",
        "            sub_lista_ordenada.append(direita[topo_direita])\n",
        "            topo_direita += 1\n",
        "    sub_lista_ordenada += esquerda[topo_esquerda:]\n",
        "    sub_lista_ordenada += direita[topo_direita:]\n",
        "    return sub_lista_ordenada\n",
        "\n",
        "\n",
        "lista = [10, 9, 5, 8, 11, -1, 3]\n",
        "executar_merge_sort(lista)"
      ],
      "execution_count": null,
      "outputs": []
    },
    {
      "cell_type": "markdown",
      "metadata": {
        "id": "HPJf9RWdFzWm"
      },
      "source": [
        "Ordenação quicksort"
      ]
    },
    {
      "cell_type": "code",
      "metadata": {
        "colab": {
          "base_uri": "https://localhost:8080/"
        },
        "id": "Mc7PhSfMTJx7",
        "outputId": "b566e2bf-407f-45e0-cd20-634e278dd3ac"
      },
      "source": [
        "def executar_quicksort(lista, inicio, fim):\n",
        "    if inicio < fim:\n",
        "        pivo = executar_particao(lista, inicio, fim)\n",
        "        executar_quicksort(lista, inicio, pivo-1)\n",
        "        executar_quicksort(lista, pivo+1, fim)\n",
        "    return lista\n",
        "\n",
        "        \n",
        "def executar_particao(lista, inicio, fim):\n",
        "    pivo = lista[fim]\n",
        "    esquerda = inicio\n",
        "    for direita in range(inicio, fim):\n",
        "        if lista[direita] <= pivo:\n",
        "            lista[direita], lista[esquerda] = lista[esquerda], lista[direita]\n",
        "            esquerda += 1\n",
        "    lista[esquerda], lista[fim] = lista[fim], lista[esquerda]\n",
        "    return esquerda\n",
        "\n",
        "lista = [10, 9, 5, 8, 11, -1, 3]\n",
        "executar_quicksort(lista, inicio=0, fim=len(lista)-1)"
      ],
      "execution_count": 9,
      "outputs": [
        {
          "output_type": "execute_result",
          "data": {
            "text/plain": [
              "[-1, 3, 5, 8, 9, 10, 11]"
            ]
          },
          "metadata": {
            "tags": []
          },
          "execution_count": 9
        }
      ]
    },
    {
      "cell_type": "code",
      "metadata": {
        "colab": {
          "base_uri": "https://localhost:8080/"
        },
        "id": "W_UXZwJpF5Gl",
        "outputId": "13dbe67c-7bbc-4d31-863b-805b3faf37d9"
      },
      "source": [
        "\n",
        "def executar_quicksort_2(lista): # Criação da função que recebe como parâmetro a lista\n",
        "    if len(lista) <= 1: return lista  # Se o tamanho da lista for menor ou igual a 1 teremos o retorno da lista   \n",
        "    pivo = lista[0] # O pivô recebe a posição 0 da lista\n",
        "    iguais  = [valor for valor in lista if valor == pivo] # A variável iguais recebe valor para valor dentro de lista se valor for igual a pivo\n",
        "    menores = [valor for valor in lista if valor <  pivo] # A variável menores recebe valor para valor dentro de lista se valor for menor que  pivo\n",
        "    maiores = [valor for valor in lista if valor >  pivo] # A variável maiores recebe valor para valor dentro de lista se valor for maior que pivo\n",
        "    return executar_quicksort_2(menores) + iguais + executar_quicksort_2(maiores) \n",
        "\n",
        "\n",
        "lista = [10, 9, 5, 8, 11, -1, 3]\n",
        "executar_quicksort_2(lista)\n"
      ],
      "execution_count": 8,
      "outputs": [
        {
          "output_type": "execute_result",
          "data": {
            "text/plain": [
              "[-1, 3, 5, 8, 9, 10, 11]"
            ]
          },
          "metadata": {
            "tags": []
          },
          "execution_count": 8
        }
      ]
    }
  ]
}