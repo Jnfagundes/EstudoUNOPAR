{
  "nbformat": 4,
  "nbformat_minor": 0,
  "metadata": {
    "colab": {
      "name": "Desafio.ipynb",
      "provenance": [],
      "authorship_tag": "ABX9TyN8RHPwNPOb0rMSfmeI/lWx",
      "include_colab_link": true
    },
    "kernelspec": {
      "name": "python3",
      "display_name": "Python 3"
    },
    "language_info": {
      "name": "python"
    }
  },
  "cells": [
    {
      "cell_type": "markdown",
      "metadata": {
        "id": "view-in-github",
        "colab_type": "text"
      },
      "source": [
        "<a href=\"https://colab.research.google.com/github/Jnfagundes/EstudoUNOPAR/blob/main/Desafio.ipynb\" target=\"_parent\"><img src=\"https://colab.research.google.com/assets/colab-badge.svg\" alt=\"Open In Colab\"/></a>"
      ]
    },
    {
      "cell_type": "code",
      "metadata": {
        "id": "Cmffs_13KCc4"
      },
      "source": [
        "\n",
        "import pandas as pd\n",
        "\n",
        "df_etanol = pd.read_csv('exportacao-etanol-hidratado-2012-2020-bep.csv', sep=';', encoding=\"ISO-8859-1\")\n",
        "\n",
        "print(df_etanol.info())\n",
        "df_etanol.head(2)\n"
      ],
      "execution_count": null,
      "outputs": []
    },
    {
      "cell_type": "code",
      "metadata": {
        "id": "f3Cnnmt-LmY4"
      },
      "source": [
        "\n",
        "df_etanol.drop(columns=['PRODUTO', 'MOVIMENTO COMERCIAL', 'UNIDADE'], inplace=True)\n",
        "\n",
        "df_etanol.head(2)\n"
      ],
      "execution_count": null,
      "outputs": []
    },
    {
      "cell_type": "code",
      "metadata": {
        "id": "e8XuNziTLnuy"
      },
      "source": [
        "\n",
        "df_etanol.set_index(keys='ANO', drop=True, inplace=True)\n",
        "\n",
        "df_etanol.head(2)\n"
      ],
      "execution_count": null,
      "outputs": []
    },
    {
      "cell_type": "code",
      "metadata": {
        "id": "uG3AYLgnLuTJ"
      },
      "source": [
        "\n",
        "for mes in 'JAN FEV MAR ABR MAI JUN JUL AGO SET OUT NOV DEZ TOTAL'.split():\n",
        "    df_etanol[mes] = df_etanol[mes].str.replace(',', '.')\n",
        "    \n",
        "print(df_etanol.dtypes)\n",
        "df_etanol.head(2)\n",
        "\n",
        "df_etanol = df_etanol.astype(float)\n",
        "print(df_etanol.dtypes)\n",
        "\n",
        "df_etanol.head(2)\n"
      ],
      "execution_count": null,
      "outputs": []
    },
    {
      "cell_type": "code",
      "metadata": {
        "id": "e9PuFI7eL3Ho"
      },
      "source": [
        "\n",
        "# Em cada ano, qual o menor e o maior valor arrecadado da exportação?\n",
        "\n",
        "for ano in range(2012, 2021):\n",
        "    ano_info = df_etanol.loc[ano]\n",
        "    minimo = ano_info.min()\n",
        "    maximo = ano_info.max()\n",
        "    print(f\"Ano = {ano}\")\n",
        "    print(f\"Menor valor = {minimo:,.0f}\".replace(',', '.'))\n",
        "    print(f\"Maior valor = {maximo:,.0f}\".replace(',', '.'))\n",
        "    print(\"--------------\")\n",
        "    "
      ],
      "execution_count": null,
      "outputs": []
    },
    {
      "cell_type": "code",
      "metadata": {
        "id": "8Q6qaDm8MJDL"
      },
      "source": [
        "\n",
        "# Considerando o período de 2012 a 2019, qual a média mensal de arrecadamento com a exportação\n",
        "\n",
        "print(\"Média mensal de rendimentos:\")\n",
        "for mes in 'JAN FEV MAR ABR MAI JUN JUL AGO SET OUT NOV DEZ'.split():\n",
        "    media = df_etanol.loc[2012:2019, mes].mean()\n",
        "    print(f\"{mes} = {media:,.0f}\".replace(',', '.'))\n",
        "    "
      ],
      "execution_count": null,
      "outputs": []
    },
    {
      "cell_type": "code",
      "metadata": {
        "id": "9HfSDjn3MWCq"
      },
      "source": [
        "\n",
        "# Considerando o período de 2012 a 2019, qual ano teve o menor arrecadamento? E o menor?\n",
        "\n",
        "ano_menor_arrecadacao = df_etanol.loc[2012:2019, 'TOTAL'].idxmin()\n",
        "ano_maior_arrecadacao = df_etanol.loc[2012:2019, 'TOTAL'].idxmax()\n",
        "\n",
        "print(f\"Ano com menor arrecadação = {ano_menor_arrecadacao}\")\n",
        "print(f\"Ano com maior arrecadação = {ano_maior_arrecadacao}\")\n"
      ],
      "execution_count": null,
      "outputs": []
    },
    {
      "cell_type": "code",
      "metadata": {
        "id": "NDsZf4KOMikK"
      },
      "source": [
        ""
      ],
      "execution_count": null,
      "outputs": []
    }
  ]
}