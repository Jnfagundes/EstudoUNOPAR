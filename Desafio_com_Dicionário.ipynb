{
  "nbformat": 4,
  "nbformat_minor": 0,
  "metadata": {
    "colab": {
      "name": "Desafio_com_Dicionário.ipynb",
      "provenance": [],
      "authorship_tag": "ABX9TyPmB07Fz1IsiWx7udHgH2ax",
      "include_colab_link": true
    },
    "kernelspec": {
      "name": "python3",
      "display_name": "Python 3"
    },
    "language_info": {
      "name": "python"
    }
  },
  "cells": [
    {
      "cell_type": "markdown",
      "metadata": {
        "id": "view-in-github",
        "colab_type": "text"
      },
      "source": [
        "<a href=\"https://colab.research.google.com/github/Jnfagundes/EstudoUNOPAR/blob/main/Desafio_com_Dicion%C3%A1rio.ipynb\" target=\"_parent\"><img src=\"https://colab.research.google.com/assets/colab-badge.svg\" alt=\"Open In Colab\"/></a>"
      ]
    },
    {
      "cell_type": "code",
      "metadata": {
        "id": "Jen9SUUHpTs-",
        "colab": {
          "base_uri": "https://localhost:8080/"
        },
        "outputId": "cb65fae2-d0da-45c3-a985-f141d14c7aab"
      },
      "source": [
        "print('Desafio da prática de Dados')\n",
        "\n",
        "\n",
        "def extrair_lista_email(dict_1, dict_2): #Aqui temos como parâmetros dois dicionários de dados\n",
        "    lista_1 = list(zip(dict_1['nome'], dict_1['email'], dict_1['enviado'])) # Criação de uma lista de tuplas do primeiro dicionário criadas com a função zip() \n",
        "    print(f\"Amostra da lista 1 = {lista_1[0]}\")\n",
        "\n",
        "    lista_2 = list(zip(dict_2['nome'], dict_2['email'], dict_2['enviado'])) #Criação da segunda lista usando o segundo dicionário\n",
        "\n",
        "    dados = lista_1 + lista_2 # União das listas\n",
        "\n",
        "    print(f\"\\nAmostra dos dados = \\n{dados[:2]}\\n\\n\")\n",
        "    \n",
        "    # Queremos uma lista com o email de quem ainda não recebeu o aviso\n",
        "    emails = [item[1] for item in dados if not item[2]] # item[1] para item em dados se o item [2] não tiver valor True.\n",
        "    \n",
        "    return emails\n",
        "\n",
        "\n",
        "dados_1 = {\n",
        "    'nome': ['Sonia Weber', 'Daryl Lowe', 'Vernon Carroll', 'Basil Gilliam', 'Mechelle Cobb', 'Edan Booker', 'Igor Wyatt', 'Ethan Franklin', 'Reed Williamson', 'Price Singleton'],\n",
        "    'email': ['Lorem.ipsum@cursusvestibulumMauris.com', 'auctor@magnis.org', 'at@magnaUttincidunt.org', 'mauris.sagittis@sem.com', 'nec.euismod.in@mattis.co.uk', 'egestas@massaMaurisvestibulum.edu', 'semper.auctor.Mauris@Crasdolordolor.edu', 'risus.Quisque@condimentum.com', 'Donec@nislMaecenasmalesuada.net', 'Aenean.gravida@atrisus.edu'],\n",
        "    'enviado': [False, False, False, False, False, False, False, True, False, False]\n",
        "}\n",
        "\n",
        "dados_2 = {\n",
        "    'nome': ['Travis Shepherd', 'Hoyt Glass', 'Jennifer Aguirre', 'Cassady Ayers', 'Colin Myers', 'Herrod Curtis', 'Cecilia Park', 'Hop Byrd', 'Beatrice Silva', 'Alden Morales'],\n",
        "    'email': ['at@sed.org', 'ac.arcu.Nunc@auctor.edu', 'nunc.Quisque.ornare@nibhAliquam.co.uk', 'non.arcu@mauriseu.com', 'fringilla.cursus.purus@erategetipsum.ca', 'Fusce.fermentum@tellus.co.uk', 'dolor.tempus.non@ipsum.net', 'blandit.congue.In@libero.com', 'nec.tempus.mauris@Suspendisse.com', 'felis@urnaconvalliserat.org'],\n",
        "    'enviado': [False, False, False, True, True, True, False, True, True, False]\n",
        "}\n",
        "\n",
        "\n",
        "emails = extrair_lista_email(dict_1=dados_1, dict_2=dados_2)\n",
        "print(f\"E-mails a serem enviados = \\n {emails}\")\n"
      ],
      "execution_count": 1,
      "outputs": [
        {
          "output_type": "stream",
          "text": [
            "Desafio da prática de Dados\n",
            "Amostra da lista 1 = ('Sonia Weber', 'Lorem.ipsum@cursusvestibulumMauris.com', False)\n",
            "\n",
            "Amostra dos dados = \n",
            "[('Sonia Weber', 'Lorem.ipsum@cursusvestibulumMauris.com', False), ('Daryl Lowe', 'auctor@magnis.org', False)]\n",
            "\n",
            "\n",
            "E-mails a serem enviados = \n",
            " ['Lorem.ipsum@cursusvestibulumMauris.com', 'auctor@magnis.org', 'at@magnaUttincidunt.org', 'mauris.sagittis@sem.com', 'nec.euismod.in@mattis.co.uk', 'egestas@massaMaurisvestibulum.edu', 'semper.auctor.Mauris@Crasdolordolor.edu', 'Donec@nislMaecenasmalesuada.net', 'Aenean.gravida@atrisus.edu', 'at@sed.org', 'ac.arcu.Nunc@auctor.edu', 'nunc.Quisque.ornare@nibhAliquam.co.uk', 'dolor.tempus.non@ipsum.net', 'felis@urnaconvalliserat.org']\n"
          ],
          "name": "stdout"
        }
      ]
    }
  ]
}