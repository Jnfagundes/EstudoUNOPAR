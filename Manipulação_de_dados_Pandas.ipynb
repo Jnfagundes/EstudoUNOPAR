{
  "nbformat": 4,
  "nbformat_minor": 0,
  "metadata": {
    "colab": {
      "name": "Manipulação_de_dados_Pandas.ipynb",
      "provenance": [],
      "authorship_tag": "ABX9TyPw1LBl9uusBin9G/CN+Hy9",
      "include_colab_link": true
    },
    "kernelspec": {
      "name": "python3",
      "display_name": "Python 3"
    },
    "language_info": {
      "name": "python"
    }
  },
  "cells": [
    {
      "cell_type": "markdown",
      "metadata": {
        "id": "view-in-github",
        "colab_type": "text"
      },
      "source": [
        "<a href=\"https://colab.research.google.com/github/Jnfagundes/EstudoUNOPAR/blob/main/Manipula%C3%A7%C3%A3o_de_dados_Pandas.ipynb\" target=\"_parent\"><img src=\"https://colab.research.google.com/assets/colab-badge.svg\" alt=\"Open In Colab\"/></a>"
      ]
    },
    {
      "cell_type": "markdown",
      "metadata": {
        "id": "hSx0mzDVBsVC"
      },
      "source": [
        "Leitura de arquivo JSON e CSV"
      ]
    },
    {
      "cell_type": "code",
      "metadata": {
        "id": "5UoZwK-2-oTs"
      },
      "source": [
        "import pandas as pd"
      ],
      "execution_count": null,
      "outputs": []
    },
    {
      "cell_type": "code",
      "metadata": {
        "id": "Famm-6nHBpB1"
      },
      "source": [
        "pd.read_json(\"https://api.bcb.gov.br/dados/serie/bcdata.sgs.11/dados?formato=json\").head() "
      ],
      "execution_count": null,
      "outputs": []
    },
    {
      "cell_type": "code",
      "metadata": {
        "id": "VfFgu2DbCWjP"
      },
      "source": [
        "pd.read_csv(\"https://people.sc.fsu.edu/~jburkardt/data/csv/cities.csv\").head()"
      ],
      "execution_count": null,
      "outputs": []
    },
    {
      "cell_type": "markdown",
      "metadata": {
        "id": "ThPRrYJtROIs"
      },
      "source": [
        "Trabalhando com estração da taxa selic"
      ]
    },
    {
      "cell_type": "code",
      "metadata": {
        "id": "Rb7gzoeFCeGt"
      },
      "source": [
        "\n",
        "df_selic = pd.read_json(\"https://api.bcb.gov.br/dados/serie/bcdata.sgs.11/dados?formato=json\")\n",
        "\n",
        "print(df_selic.info())\n"
      ],
      "execution_count": null,
      "outputs": []
    },
    {
      "cell_type": "markdown",
      "metadata": {
        "id": "zoIHFarH6nTl"
      },
      "source": [
        "Remover linhas duplicadas"
      ]
    },
    {
      "cell_type": "code",
      "metadata": {
        "id": "JzjdstuY6rpi"
      },
      "source": [
        "df_selic.drop_duplicates(keep='last', inplace=True)"
      ],
      "execution_count": null,
      "outputs": []
    },
    {
      "cell_type": "markdown",
      "metadata": {
        "id": "wbrUlgVN7ahc"
      },
      "source": [
        "Criando Novas colunas"
      ]
    },
    {
      "cell_type": "code",
      "metadata": {
        "id": "jQr7Fp6f7dco"
      },
      "source": [
        "\n",
        "from datetime import date\n",
        "from datetime import datetime as dt\n",
        "\n",
        "data_extracao = date.today()\n",
        "\n",
        "df_selic['data_extracao'] = data_extracao\n",
        "df_selic['responsavel'] = \"Autora\"\n",
        "\n",
        "print(df_selic.info())\n",
        "df_selic.head()\n"
      ],
      "execution_count": null,
      "outputs": []
    },
    {
      "cell_type": "code",
      "metadata": {
        "id": "FcNBRfxQ8odJ"
      },
      "source": [
        "\n",
        "df_selic['data'] = pd.to_datetime(df_selic['data'], dayfirst=True) # Estamos recebendo a coluna com os valores que serão alterados\n",
        "df_selic['data_extracao'] = df_selic['data_extracao'].astype('datetime64[ns]') # Com astype podemos padronizar valores das colunas.\n",
        "\n",
        "print(df_selic.info())\n",
        "df_selic.head()\n"
      ],
      "execution_count": null,
      "outputs": []
    },
    {
      "cell_type": "markdown",
      "metadata": {
        "id": "sGzhc5ah-Jfy"
      },
      "source": [
        "Series.str"
      ]
    },
    {
      "cell_type": "code",
      "metadata": {
        "id": "sb5E5Ftn-MkT"
      },
      "source": [
        "\n",
        "df_selic['responsavel'] = df_selic['responsavel'].str.upper() # Com upper() estamos convertendo todo o conteúdo str para maiúsculo\n",
        "\n",
        "df_selic.head()\n"
      ],
      "execution_count": null,
      "outputs": []
    },
    {
      "cell_type": "markdown",
      "metadata": {
        "id": "usQS0cDz-ey8"
      },
      "source": [
        "sort_values()"
      ]
    },
    {
      "cell_type": "code",
      "metadata": {
        "id": "C-LSY2jI-iaA"
      },
      "source": [
        "# O método sort_values() permite a ordenação de acordo com os valores de uma coluna.\n",
        "df_selic.sort_values(by='data', ascending=False, inplace=True) # O primeiro parâmetro informa qual coluna deve ser usada, o segundo para que seja feita a ordem \n",
        "# decrescente ( do maior para o menor) e o terceiro significa que queremos modificar o próprio objeto\n",
        "\n",
        "df_selic.head()\n"
      ],
      "execution_count": null,
      "outputs": []
    },
    {
      "cell_type": "markdown",
      "metadata": {
        "id": "MP2zCxMP_dNz"
      },
      "source": [
        "Método reset_index() e set_index()"
      ]
    },
    {
      "cell_type": "code",
      "metadata": {
        "id": "dUERuugc_mGZ"
      },
      "source": [
        "\n",
        "df_selic.reset_index(drop=True, inplace=True) # Aqui o indice é redefinido usando o padrão\n",
        "\n",
        "df_selic.head()\n"
      ],
      "execution_count": null,
      "outputs": []
    },
    {
      "cell_type": "code",
      "metadata": {
        "id": "ot-KECeRBKtJ"
      },
      "source": [
        "\n",
        "lista_novo_indice = [f'selic_{indice}' for indice in df_selic.index]\n",
        "\n",
        "print(lista_novo_indice[:5])\n"
      ],
      "execution_count": null,
      "outputs": []
    },
    {
      "cell_type": "code",
      "metadata": {
        "id": "uTHDE8ZBBdtl"
      },
      "source": [
        "\n",
        "df_selic.set_index(keys=[lista_novo_indice], inplace=True) # O método set_index permite especificar novos valores usando uma coluna já existente\n",
        "\n",
        "df_selic.head()\n"
      ],
      "execution_count": null,
      "outputs": []
    },
    {
      "cell_type": "code",
      "metadata": {
        "id": "Hmn880j1CADv"
      },
      "source": [
        "\n",
        "print(df_selic['valor'].idxmin())\n",
        "print(df_selic['valor'].idxmax())\n"
      ],
      "execution_count": null,
      "outputs": []
    },
    {
      "cell_type": "markdown",
      "metadata": {
        "id": "zysl93fLCFGr"
      },
      "source": [
        "filtros com LOC"
      ]
    },
    {
      "cell_type": "code",
      "metadata": {
        "id": "wbgm90D-CIKq"
      },
      "source": [
        "# DataFrame das bibliotecas pandas possuem uma propriedade chamada LOC.\n",
        "# Essa propriedade permite acessar um conjunto de linhas por meio de do indice ou por vetor booleano\n",
        "df_selic.loc['selic_0'] # Estamos localizando o regitro que possui indice 'selic_0'.\n"
      ],
      "execution_count": null,
      "outputs": []
    },
    {
      "cell_type": "code",
      "metadata": {
        "id": "gc9Q2ms2CMxG"
      },
      "source": [
        "df_selic.loc[['selic_0', 'selic_4', 'selic_200']] # Foram filtrados três registros "
      ],
      "execution_count": null,
      "outputs": []
    },
    {
      "cell_type": "code",
      "metadata": {
        "id": "j-OItsJ6D1zU"
      },
      "source": [
        "df_selic.loc[:'selic_5'] # Aqui está sendo feito um fatiamento."
      ],
      "execution_count": null,
      "outputs": []
    },
    {
      "cell_type": "code",
      "metadata": {
        "id": "9fBRs0QxECnP"
      },
      "source": [
        "df_selic.loc[['selic_0', 'selic_4', 'selic_200'], 'valor'] # Aqui selecionamos uma única coluna"
      ],
      "execution_count": null,
      "outputs": []
    },
    {
      "cell_type": "code",
      "metadata": {
        "id": "octjuMf3EHBB"
      },
      "source": [
        "df_selic.loc[['selic_0', 'selic_4', 'selic_200'], ['valor', 'data_extracao']] # Já aqui estamos selecionando uma lista de colunas"
      ],
      "execution_count": null,
      "outputs": []
    },
    {
      "cell_type": "code",
      "metadata": {
        "id": "_yDyOUSCEili"
      },
      "source": [
        "df_selic.iloc[:5] # Aqui estamos filtrando os 5 primeiros registros. Essa propriedade não possue a opção de selecionar colunas"
      ],
      "execution_count": null,
      "outputs": []
    },
    {
      "cell_type": "markdown",
      "metadata": {
        "id": "81g22pQXE5Ri"
      },
      "source": [
        "Filtros com testes booleanos"
      ]
    },
    {
      "cell_type": "code",
      "metadata": {
        "id": "xnQXjfInE29Z"
      },
      "source": [
        "\n",
        "teste = df_selic['valor'] < 0.01  # Estamos usando um operador relacional para testar se os valores da coluna 'valor', são menores que 0.01\n",
        "\n",
        "print(type(teste))\n",
        "teste[:5] # Aqui estamos imprimindo os cinco primeiros resultados do teste lógico\n"
      ],
      "execution_count": null,
      "outputs": []
    },
    {
      "cell_type": "code",
      "metadata": {
        "id": "Krkp_yg9FvtF"
      },
      "source": [
        "\n",
        "teste2 = df_selic['data'] >= pd.to_datetime('2020-01-01') # Estamos realizando mais de um teste lógico para saber se a data da taxa é do ano de 2020\n",
        "\n",
        "print(type(teste2))\n",
        "teste2[:5]\n"
      ],
      "execution_count": null,
      "outputs": []
    },
    {
      "cell_type": "code",
      "metadata": {
        "id": "4eZfUq9-GNzV"
      },
      "source": [
        "\n",
        "teste3 = (df_selic['valor'] < 0.01) & (df_selic['data'] >= pd.to_datetime('2020-01-01')) # Teste com o operador AND\n",
        "\n",
        "teste4 = (df_selic['valor'] < 0.01) | (df_selic['data'] >= pd.to_datetime('2020-01-01')) # Teste como o operador OU\n",
        "\n",
        "print(\"Resultado do AND:\\n\")\n",
        "print(teste3[:3])\n",
        "\n",
        "print(\"Resultado do OR:\\n\")\n",
        "print(teste4[:3])\n"
      ],
      "execution_count": null,
      "outputs": []
    },
    {
      "cell_type": "code",
      "metadata": {
        "id": "w7y3IAHtGpO9"
      },
      "source": [
        "\n",
        "filtro1 = df_selic['valor'] < 0.01 # Aqui estamos criando uma condição e guardando dentro da  variável \n",
        "\n",
        "df_selic.loc[filtro1] # Aqui estamos filtrando com loc\n"
      ],
      "execution_count": null,
      "outputs": []
    },
    {
      "cell_type": "code",
      "metadata": {
        "id": "9uROwzYYHRsi"
      },
      "source": [
        "\n",
        "data1 = pd.to_datetime('2020-01-01') # Criamos uma condição para apresentar somente o mês de Janeiro de 2020\n",
        "data2 = pd.to_datetime('2020-01-31')\n",
        "\n",
        "filtro_janeiro_2020 = (df_selic['data'] >= data1) & (df_selic['data'] <= data2) # Aqui criamos o filtro\n",
        "\n",
        "df_janeiro_2020 = df_selic.loc[filtro_janeiro_2020] # Aqui estamos aplicando o filtro criado acima.\n",
        "df_janeiro_2020.head()\n"
      ],
      "execution_count": null,
      "outputs": []
    },
    {
      "cell_type": "code",
      "metadata": {
        "id": "lDaM9wplH4Ko"
      },
      "source": [
        "\n",
        "data1 = pd.to_datetime('2019-01-01')\n",
        "data2 = pd.to_datetime('2019-01-31')\n",
        "\n",
        "filtro_janeiro_2019 = (df_selic['data'] >= data1) & (df_selic['data'] <= data2)\n",
        "\n",
        "df_janeiro_2019 = df_selic.loc[filtro_janeiro_2019]\n",
        "df_janeiro_2019.head()\n"
      ],
      "execution_count": null,
      "outputs": []
    },
    {
      "cell_type": "code",
      "metadata": {
        "id": "bfPM0VGzIPsk"
      },
      "source": [
        "\n",
        "print('Mínimo geral = ', df_selic['valor'].min())\n",
        "print('Mínimo janeiro de 2019 = ', df_janeiro_2019['valor'].min())\n",
        "print('Mínimo janeiro de 2020 = ',df_janeiro_2020['valor'].min(), '\\n')\n",
        "\n",
        "print('Máximo geral = ', df_selic['valor'].max())\n",
        "print('Máximo janeiro de 2019 = ', df_janeiro_2019['valor'].max())\n",
        "print('Máximo janeiro de 2020 = ',df_janeiro_2020['valor'].max(), '\\n')\n",
        "\n",
        "print('Média geral = ', df_selic['valor'].mean())\n",
        "print('Média janeiro de 2019 = ', df_janeiro_2019['valor'].mean())\n",
        "print('Média janeiro de 2020 = ',df_janeiro_2020['valor'].mean(), '\\n')\n"
      ],
      "execution_count": null,
      "outputs": []
    },
    {
      "cell_type": "code",
      "metadata": {
        "id": "bL5IdxB_I6RX"
      },
      "source": [
        "df_selic.to_csv('dados_selic.csv') # Salva o arquivo dentro da pasta de trabalho"
      ],
      "execution_count": null,
      "outputs": []
    }
  ]
}