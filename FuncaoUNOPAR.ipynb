{
  "nbformat": 4,
  "nbformat_minor": 0,
  "metadata": {
    "colab": {
      "name": "FuncaoUNOPAR.ipynb",
      "provenance": [],
      "authorship_tag": "ABX9TyNBZ8iMakSN1r4/Pu2/H7WI",
      "include_colab_link": true
    },
    "kernelspec": {
      "name": "python3",
      "display_name": "Python 3"
    },
    "language_info": {
      "name": "python"
    }
  },
  "cells": [
    {
      "cell_type": "markdown",
      "metadata": {
        "id": "view-in-github",
        "colab_type": "text"
      },
      "source": [
        "<a href=\"https://colab.research.google.com/github/Jnfagundes/EstudoUNOPAR/blob/main/FuncaoUNOPAR.ipynb\" target=\"_parent\"><img src=\"https://colab.research.google.com/assets/colab-badge.svg\" alt=\"Open In Colab\"/></a>"
      ]
    },
    {
      "cell_type": "code",
      "metadata": {
        "id": "fPUGi1MrudKa",
        "colab": {
          "base_uri": "https://localhost:8080/"
        },
        "outputId": "e10475bf-6012-4464-f3ce-827f18ca64e5"
      },
      "source": [
        "salario = 0\n",
        "salario = float(input(\"Digite o salário do colaborador: \"))\n",
        "\n",
        "if salario <= 1903.98:\n",
        "    print(f\"O colaborador isento de imposto.\")\n",
        "elif salario <= 2826.65:\n",
        "    print(f\"O colaborador deve pagar R$ 142,80 de imposto.\")\n",
        "elif salario <= 3751.05:\n",
        "    print(f\"O colaborador deve pagar R$ 354,80 de imposto.\")\n",
        "elif salario <= 4664.68:\n",
        "    print(f\"O colaborador deve pagar R$ 636,13 de imposto.\")\n",
        "else:\n",
        "    print(f\"O colaborador deve pagar R$ 869,36 de imposto.\")"
      ],
      "execution_count": 1,
      "outputs": [
        {
          "output_type": "stream",
          "text": [
            "Digite o salário do colaborador: 1080\n",
            "O colaborador isento de imposto.\n"
          ],
          "name": "stdout"
        }
      ]
    },
    {
      "cell_type": "code",
      "metadata": {
        "colab": {
          "base_uri": "https://localhost:8080/"
        },
        "id": "gporBsFuygSq",
        "outputId": "bcf5d4e3-bb63-4347-c115-8e5c8a25b4ee"
      },
      "source": [
        "salario = 0\n",
        "salario = float(input(\"Digite o salário do colaborador: \"))\n",
        "\n",
        "if salario <= 1903.98:\n",
        "    print(f\"O colaborador isento de imposto.\")\n",
        "    print(f\"Salário a receber = {salario}\")\n",
        "elif salario <= 2826.65:\n",
        "    print(f\"O colaborador deve pagar R$ 142,80 de imposto.\")\n",
        "    print(f\"Salário a receber = {salario - 142.80}\")\n",
        "elif salario <= 3751.05:\n",
        "    print(f\"O colaborador deve pagar R$ 354,80 de imposto.\")\n",
        "    print(f\"Salário a receber = {salario - 354.80}\")\n",
        "elif salario <= 4664.68:\n",
        "    print(f\"O colaborador deve pagar R$ 636,13 de imposto.\")\n",
        "    print(f\"Salário a receber = {salario - 636.13}\")\n",
        "else:\n",
        "    print(f\"O colaborador deve pagar R$ 869,36 de imposto.\")\n",
        "    print(f\"Salário a receber = {salario - 869.36}\")"
      ],
      "execution_count": 2,
      "outputs": [
        {
          "output_type": "stream",
          "text": [
            "Digite o salário do colaborador: 3088\n",
            "O colaborador deve pagar R$ 354,80 de imposto.\n",
            "Salário a receber = 2733.2\n"
          ],
          "name": "stdout"
        }
      ]
    },
    {
      "cell_type": "code",
      "metadata": {
        "colab": {
          "base_uri": "https://localhost:8080/"
        },
        "id": "F6bzW5_S4MGw",
        "outputId": "4fb1a897-dc70-4cfc-979c-84bd2e061bd5"
      },
      "source": [
        "print('Estudo de funções')\n",
        "# Declaração de variáveis \n",
        "a = 2\n",
        "b = 1\n",
        "\n",
        "equacao = input(\"Digite a fórmula geral da equação linear (a * x + b): \")\n",
        "print(f\"\\nA entrada do usuário {equacao} é do tipo {type(equacao)}\")\n",
        "\n",
        "for x in range(5): # Para valores de x entre 0 e 4\n",
        "    y = eval(equacao) #Eval é a função usada aqui\n",
        "    print(f\"\\nResultado da equação para x = {x} é {y}\")"
      ],
      "execution_count": 3,
      "outputs": [
        {
          "output_type": "stream",
          "text": [
            "Estudo de funções\n",
            "Digite a fórmula geral da equação linear (a * x + b): a* x + b\n",
            "\n",
            "A entrada do usuário a* x + b é do tipo <class 'str'>\n",
            "\n",
            "Resultado da equação para x = 0 é 1\n",
            "\n",
            "Resultado da equação para x = 1 é 3\n",
            "\n",
            "Resultado da equação para x = 2 é 5\n",
            "\n",
            "Resultado da equação para x = 3 é 7\n",
            "\n",
            "Resultado da equação para x = 4 é 9\n"
          ],
          "name": "stdout"
        }
      ]
    },
    {
      "cell_type": "code",
      "metadata": {
        "colab": {
          "base_uri": "https://localhost:8080/"
        },
        "id": "Y4voP0Rc5UaN",
        "outputId": "62ec72b9-0485-4880-a907-c75a233a003d"
      },
      "source": [
        "#Aqui estamos criando  uma função\n",
        "def imprimir_mensagem(disciplina, curso):\n",
        "    print(f\"Minha primeira função em Python desenvolvida na disciplina: {disciplina}, do curso: {curso}.\")\n",
        "\n",
        "#Aqui estamos chamando a função passando python e ADS como parâmetros para essa função    \n",
        "imprimir_mensagem(\"Python\", \"ADS\")"
      ],
      "execution_count": 4,
      "outputs": [
        {
          "output_type": "stream",
          "text": [
            "Minha primeira função em Python desenvolvida na disciplina: Python, do curso: ADS.\n"
          ],
          "name": "stdout"
        }
      ]
    },
    {
      "cell_type": "code",
      "metadata": {
        "colab": {
          "base_uri": "https://localhost:8080/"
        },
        "id": "zRv4dYo86MUt",
        "outputId": "b8fa216b-74b2-4f14-8bfe-adb88ab60941"
      },
      "source": [
        "def converter_mes_para_extenso(data):\n",
        "    mes = '''janeiro fevereiro março\n",
        "      abril maio junho julho agosto\n",
        "      setembro outubro novembro\n",
        "      dezembro'''.split()\n",
        "    d, m, a = data.split('/')\n",
        "    mes_extenso = mes[int(m) - 1] # O mês 1, estará na posição 0!\n",
        "    return f'{d} de {mes_extenso} de {a}'\n",
        "\n",
        "print(converter_mes_para_extenso('10/05/2021'))\n",
        "ndata = input('Digite o dia/mês/ano: ')\n",
        "print(converter_mes_para_extenso(ndata)) #Solução criada por mim\n"
      ],
      "execution_count": 6,
      "outputs": [
        {
          "output_type": "stream",
          "text": [
            "10 de maio de 2021\n",
            "Digite o dia/mês/ano: 25/06/1983\n",
            "25 de junho de 1983\n"
          ],
          "name": "stdout"
        }
      ]
    },
    {
      "cell_type": "code",
      "metadata": {
        "colab": {
          "base_uri": "https://localhost:8080/",
          "height": 231
        },
        "id": "NnVBBveSeVNV",
        "outputId": "c7e6ef7d-4b40-484a-c7d9-649b94919a7a"
      },
      "source": [
        "#Parâmetro posicional, obrigatório, sem valor default (padrão).\n",
        "\n",
        "def somar(a, b):\n",
        "    return a + b\n",
        "\n",
        "r = somar(2)\n",
        "print(r)\n",
        "\n",
        "#Os parâmetros  vão depender da ordem em que forem passados, \n",
        "#por isso são chamados de posicionais (a posição influencia o resultado). Os parâmetros desse grupo são obrigatórios, \n",
        "#ou seja, tentar um invocar a função, sem passar os parâmetros, acarreta um erro. Além disso, os parâmetros não possuem valor default."
      ],
      "execution_count": 7,
      "outputs": [
        {
          "output_type": "error",
          "ename": "TypeError",
          "evalue": "ignored",
          "traceback": [
            "\u001b[0;31m---------------------------------------------------------------------------\u001b[0m",
            "\u001b[0;31mTypeError\u001b[0m                                 Traceback (most recent call last)",
            "\u001b[0;32m<ipython-input-7-204c86ebb038>\u001b[0m in \u001b[0;36m<module>\u001b[0;34m()\u001b[0m\n\u001b[1;32m      4\u001b[0m     \u001b[0;32mreturn\u001b[0m \u001b[0ma\u001b[0m \u001b[0;34m+\u001b[0m \u001b[0mb\u001b[0m\u001b[0;34m\u001b[0m\u001b[0;34m\u001b[0m\u001b[0m\n\u001b[1;32m      5\u001b[0m \u001b[0;34m\u001b[0m\u001b[0m\n\u001b[0;32m----> 6\u001b[0;31m \u001b[0mr\u001b[0m \u001b[0;34m=\u001b[0m \u001b[0msomar\u001b[0m\u001b[0;34m(\u001b[0m\u001b[0;36m2\u001b[0m\u001b[0;34m)\u001b[0m\u001b[0;34m\u001b[0m\u001b[0;34m\u001b[0m\u001b[0m\n\u001b[0m\u001b[1;32m      7\u001b[0m \u001b[0mprint\u001b[0m\u001b[0;34m(\u001b[0m\u001b[0mr\u001b[0m\u001b[0;34m)\u001b[0m\u001b[0;34m\u001b[0m\u001b[0;34m\u001b[0m\u001b[0m\n\u001b[1;32m      8\u001b[0m \u001b[0;34m\u001b[0m\u001b[0m\n",
            "\u001b[0;31mTypeError\u001b[0m: somar() missing 1 required positional argument: 'b'"
          ]
        }
      ]
    },
    {
      "cell_type": "code",
      "metadata": {
        "colab": {
          "base_uri": "https://localhost:8080/"
        },
        "id": "GfwpPRMLfgjY",
        "outputId": "03f2578e-074a-4497-89cf-a222abf9da8a"
      },
      "source": [
        "#Parâmetro posicional, obrigatório, com valor default (padrão).\n",
        "def calcular_desconto(valor, desconto=0): # O parâmetro desconto possui zero como valor default\n",
        "    valor_com_desconto = valor - (valor * desconto)\n",
        "    return valor_com_desconto\n",
        "\n",
        "valor1 = calcular_desconto(100) # Não aplicar nenhum desconto\n",
        "valor2 = calcular_desconto(100, 0.25) # Aplicar desconto de 25%\n",
        "\n",
        "print(f\"\\nPrimeiro valor a ser pago = {valor1}\")\n",
        "print(f\"\\nSegundo valor a ser pago = {valor2}\")\n",
        "#também temos os parâmetros posicionais e obrigatórios, \n",
        "#porém vamos definir um valor default (padrão), assim, quando a função for invocada, caso nenhum valor seja passado, o valor default é utilizado.\n"
      ],
      "execution_count": 8,
      "outputs": [
        {
          "output_type": "stream",
          "text": [
            "\n",
            "Primeiro valor a ser pago = 100\n",
            "\n",
            "Segundo valor a ser pago = 75.0\n"
          ],
          "name": "stdout"
        }
      ]
    },
    {
      "cell_type": "code",
      "metadata": {
        "colab": {
          "base_uri": "https://localhost:8080/"
        },
        "id": "jJLVqYcXgIWA",
        "outputId": "713522e1-e685-4b33-8021-3da291b97fe7"
      },
      "source": [
        "#Parâmetro nominal, obrigatório, sem valor default (padrão).\n",
        "def cadastrar_pessoa(nome, idade, cidade):\n",
        "    print(\"\\nDados a serem cadastrados:\")\n",
        "    print(f\"Nome: {nome}\")\n",
        "    print(f\"Idade: {idade}\")\n",
        "    print(f\"Cidade: {cidade}\")\n",
        "    \n",
        "\n",
        "cadastrar_pessoa(\"João\", 23, \"São Paulo\")\n",
        "cadastrar_pessoa(\"São Paulo\", \"João\", 23)\n",
        "#para o conceito de parâmetros posicionais não existe nenhum erro de interpretação associado,\n",
        "# ou seja, o interpretador não irá informar o erro, mas pode haver um erro de lógica"
      ],
      "execution_count": 9,
      "outputs": [
        {
          "output_type": "stream",
          "text": [
            "\n",
            "Dados a serem cadastrados:\n",
            "Nome: João\n",
            "Idade: 23\n",
            "Cidade: São Paulo\n",
            "\n",
            "Dados a serem cadastrados:\n",
            "Nome: São Paulo\n",
            "Idade: João\n",
            "Cidade: 23\n"
          ],
          "name": "stdout"
        }
      ]
    },
    {
      "cell_type": "code",
      "metadata": {
        "colab": {
          "base_uri": "https://localhost:8080/"
        },
        "id": "DAFHjVm3gxMX",
        "outputId": "578db30d-8150-4ce7-91e3-6be820ed6887"
      },
      "source": [
        "#Parâmetro nominal, obrigatório, com valor default (padrão).\n",
        "\n",
        "def converter_maiuscula(texto, flag_maiuscula):\n",
        "    if flag_maiuscula:\n",
        "        return texto.upper()\n",
        "    else:\n",
        "        return texto.lower()\n",
        "\n",
        "\n",
        "texto = converter_maiuscula(flag_maiuscula=True, texto=\"João\") # Passagem nominal de parâmetros\n",
        "print(texto)\n",
        "# parâmetros nominais, ou seja, agora não mais importa a posição dos parâmetros, pois eles serão identificados pelo nome, os parâmetros são obrigatórios, \n",
        "#ou seja, na chamada da função é obrigatório passar todos os valores e sem valor default (padrão)\n",
        "\n",
        "def converter_minuscula(texto, flag_minuscula=True): # O parâmetro flag_minuscula possui True como valor default\n",
        "    if flag_minuscula:\n",
        "        return texto.lower()\n",
        "    else:\n",
        "        return texto.upper()\n",
        "\n",
        "\n",
        "texto1 = converter_minuscula(flag_minuscula=True, texto=\"LINGUAGEM de Programação\")\n",
        "texto2 = converter_minuscula(texto=\"LINGUAGEM de Programação\")\n",
        "\n",
        "print(f\"\\nTexto 1 = {texto1}\")\n",
        "print(f\"\\nTexto 2 = {texto2}\")\n",
        "\n",
        "#parâmetro nominal, obrigatório, mas nesse grupo os parâmetros podem possuir valor default (padrão)"
      ],
      "execution_count": 10,
      "outputs": [
        {
          "output_type": "stream",
          "text": [
            "JOÃO\n"
          ],
          "name": "stdout"
        }
      ]
    },
    {
      "cell_type": "code",
      "metadata": {
        "colab": {
          "base_uri": "https://localhost:8080/"
        },
        "id": "yCuF3ppAhIfr",
        "outputId": "f3740500-b771-4f9a-9d19-2b7f701dff34"
      },
      "source": [
        "#Parâmetro posicional e não obrigatório (args).\n",
        "\n",
        "def imprimir_parametros(*args):\n",
        "    qtde_parametros = len(args)\n",
        "    print(f\"Quantidade de parâmetros = {qtde_parametros}\")\n",
        "    \n",
        "    for i, valor in enumerate(args):\n",
        "        print(f\"Posição = {i}, valor = {valor}\")\n",
        "\n",
        "        \n",
        "print(\"\\nChamada 1\")        \n",
        "imprimir_parametros(\"São Paulo\", 10, 23.78, \"João\")\n",
        "\n",
        "print(\"\\nChamada 2\")        \n",
        "imprimir_parametros(10, \"São Paulo\")\n",
        "\n",
        "#parâmetros posicionais indefinidos, ou seja, a passagem de valores é feita de modo posicial, porém a quantidade não é conhecida. \n"
      ],
      "execution_count": 12,
      "outputs": [
        {
          "output_type": "stream",
          "text": [
            "\n",
            "Chamada 1\n",
            "Quantidade de parâmetros = 4\n",
            "Posição = 0, valor = São Paulo\n",
            "Posição = 1, valor = 10\n",
            "Posição = 2, valor = 23.78\n",
            "Posição = 3, valor = João\n",
            "\n",
            "Chamada 2\n",
            "Quantidade de parâmetros = 2\n",
            "Posição = 0, valor = 10\n",
            "Posição = 1, valor = São Paulo\n"
          ],
          "name": "stdout"
        }
      ]
    },
    {
      "cell_type": "code",
      "metadata": {
        "colab": {
          "base_uri": "https://localhost:8080/"
        },
        "id": "mby8oiPnhLqA",
        "outputId": "033bcbaa-b480-48f5-902a-62a8fd3e721a"
      },
      "source": [
        "#Parâmetro nominal e não obrigatório (kwargs).\n",
        "\n",
        "def imprimir_parametros(**kwargs):\n",
        "    print(f\"Tipo de objeto recebido = {type(kwargs)}\\n\")\n",
        "    qtde_parametros = len(kwargs)\n",
        "    print(f\"Quantidade de parâmetros = {qtde_parametros}\")\n",
        "    \n",
        "    for chave, valor in kwargs.items():\n",
        "        print(f\"variável = {chave}, valor = {valor}\")\n",
        "\n",
        "        \n",
        "print(\"\\nChamada 1\")        \n",
        "imprimir_parametros(cidade=\"São Paulo\", idade=33, nome=\"João\")\n",
        "\n",
        "print(\"\\nChamada 2\")        \n",
        "imprimir_parametros(desconto=10, valor=100)\n",
        "\n",
        "# a passagem é feita de modo nominal e não posicional, o que nos permite acessar tanto o valor do parâmetro quanto o nome da variável que o armazena"
      ],
      "execution_count": 13,
      "outputs": [
        {
          "output_type": "stream",
          "text": [
            "\n",
            "Chamada 1\n",
            "Tipo de objeto recebido = <class 'dict'>\n",
            "\n",
            "Quantidade de parâmetros = 3\n",
            "variável = cidade, valor = São Paulo\n",
            "variável = idade, valor = 33\n",
            "variável = nome, valor = João\n",
            "\n",
            "Chamada 2\n",
            "Tipo de objeto recebido = <class 'dict'>\n",
            "\n",
            "Quantidade de parâmetros = 2\n",
            "variável = desconto, valor = 10\n",
            "variável = valor, valor = 100\n"
          ],
          "name": "stdout"
        }
      ]
    },
    {
      "cell_type": "code",
      "metadata": {
        "colab": {
          "base_uri": "https://localhost:8080/"
        },
        "id": "BX65sPZfsp5k",
        "outputId": "c96b8cf8-91ae-468c-b1ab-2a9e8c5c811c"
      },
      "source": [
        "def calcular_valor(valor_prod, qtde, moeda=\"real\", desconto=None, acrescimo=None):\n",
        "    v_bruto = valor_prod * qtde\n",
        "    \n",
        "    if desconto:\n",
        "        v_liquido = v_bruto - (v_bruto * (desconto / 100))\n",
        "    elif acrescimo:\n",
        "        v_liquido = v_bruto + (v_bruto * (acrescimo / 100))\n",
        "    else:\n",
        "        v_liquido = v_bruto\n",
        "    \n",
        "    if moeda == 'real':\n",
        "        return v_liquido\n",
        "    elif moeda == 'dolar':\n",
        "        return v_liquido * 5\n",
        "    elif moeda == 'euro':\n",
        "        return v_liquido * 5.7\n",
        "    else:\n",
        "        print(\"Moeda não cadastrada!\")\n",
        "        return 0\n",
        "\n",
        "    \n",
        "valor_a_pagar = calcular_valor(valor_prod=32, qtde=5, desconto=5)\n",
        "print(f\"O valor final da conta é {valor_a_pagar}\")"
      ],
      "execution_count": 14,
      "outputs": [
        {
          "output_type": "stream",
          "text": [
            "O valor final da conta é 152.0\n"
          ],
          "name": "stdout"
        }
      ]
    },
    {
      "cell_type": "code",
      "metadata": {
        "colab": {
          "base_uri": "https://localhost:8080/"
        },
        "id": "ZrO-hUkbuiNo",
        "outputId": "46ab6975-1060-4525-b2bb-834e0d0a3948"
      },
      "source": [
        "def calcular_valor(valor_prod, qtde, moeda=\"real\", **kwargs):\n",
        "    v_bruto = valor_prod * qtde\n",
        "    \n",
        "    if 'desconto' in kwargs:\n",
        "        desconto = kwargs['desconto']\n",
        "        v_liquido = v_bruto - (v_bruto * (desconto / 100))\n",
        "    elif 'acrescimo' in kwargs:\n",
        "        acrescimo = kwargs['acrescimo']\n",
        "        v_liquido = v_bruto + (v_bruto * (acrescimo / 100))\n",
        "    else:\n",
        "        v_liquido = v_bruto\n",
        "    \n",
        "    if moeda == 'real':\n",
        "        return v_liquido\n",
        "    elif moeda == 'dolar':\n",
        "        return v_liquido * 5\n",
        "    elif moeda == 'euro':\n",
        "        return v_liquido * 5.7\n",
        "    else:\n",
        "        print(\"Moeda não cadastrada!\")\n",
        "        return 0\n",
        "\n",
        "    \n",
        "valor_a_pagar = calcular_valor(valor_prod=32, qtde=5, desconto=5)\n",
        "print(f\"O valor final da conta é {valor_a_pagar}\")"
      ],
      "execution_count": 15,
      "outputs": [
        {
          "output_type": "stream",
          "text": [
            "O valor final da conta é 152.0\n"
          ],
          "name": "stdout"
        }
      ]
    }
  ]
}